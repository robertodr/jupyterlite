{
  "metadata": {
    "kernelspec": {
      "name": "python",
      "display_name": "Python (Pyodide)",
      "language": "python"
    },
    "language_info": {
      "codemirror_mode": {
        "name": "python",
        "version": 3
      },
      "file_extension": ".py",
      "mimetype": "text/x-python",
      "name": "python",
      "nbconvert_exporter": "python",
      "pygments_lexer": "ipython3",
      "version": "3.8"
    }
  },
  "nbformat_minor": 5,
  "nbformat": 4,
  "cells": [
    {
      "cell_type": "code",
      "source": "from pathlib import Path\nimport numpy as np",
      "metadata": {
        "trusted": true
      },
      "execution_count": 1,
      "outputs": [],
      "id": "a5b5d520-016a-4192-ac96-191d63ea2231"
    },
    {
      "cell_type": "code",
      "source": "outputs = [Path(\"slurm-\"+x+\".out\") for x in [ \n    '274557', # 10 ny\n    '274850', # 20 ny\n    '274563', # 40 ny\n    '274503', # 80 ny\n    '274579', # 120 ny\n    '274610', # 160 ny\n    '278696', # 200 ny, 16 tasks per node (64 bank), shared mem prealloacted\n    '277962', # 240 ny , 16 tasks per node (64 bank), shared mem prealloacted\n    '277894', # 280 ny,  16 tasks per node (64 bank), shared mem prealloacted \n]]",
      "metadata": {
        "trusted": true
      },
      "execution_count": 2,
      "outputs": [],
      "id": "2c2367ea-67ec-45ac-a35a-565f592fdd32"
    },
    {
      "cell_type": "code",
      "source": "def getnMPI(lines):\n    nMPI = 0\n    #with open(filename) as file:\n    for line in lines:\n        if \"MPI processes\" in line:\n            words = line.split()\n            nMPI= int(words[5])\n            return nMPI",
      "metadata": {
        "trusted": true
      },
      "execution_count": 3,
      "outputs": [],
      "id": "6a6161c0-60c4-4573-a89a-fc1aa563da2c"
    },
    {
      "cell_type": "code",
      "source": "#note the routine will not return time of last cycle\ndef getnorbitals(lines):\n    norbitals = 0\n    newcycle = False\n    for line in lines:\n        if \"F(i,i)\" in line:\n            newcycle = True\n        if(newcycle):\n            if \"  p \" in line:\n                words = line.split()\n                norbitals = int(words[0]) + 1\n\n        if newcycle and (\"Total residual\" in line):\n            return norbitals",
      "metadata": {
        "trusted": true
      },
      "execution_count": 4,
      "outputs": [],
      "id": "dab25080-697d-45a7-a9ff-fcbb3394c598"
    },
    {
      "cell_type": "code",
      "source": "#note the routine will not return time of last cycle\ndef getwalltimes(contents):\n    ncycles = 0\n    newcycle = False\n    offset = 0\n    wtimes = []\n    \n    for line in contents:\n        if \"cycle\" in line:\n            newcycle = True\n            if(ncycles>0):\n                wtimes.append(float(words[2]))\n            ncycles+=1\n        if \"Wall time\" in line:\n            words = line.split()\n\n    return wtimes",
      "metadata": {
        "trusted": true
      },
      "execution_count": 5,
      "outputs": [],
      "id": "34edfdb6-c471-47f3-b115-64ff65331b46"
    },
    {
      "cell_type": "code",
      "source": "#note the routine will not return time of last cycle\ndef getHFtimes(contents):\n    ncycles = 0\n    newcycle = False\n    offset = 0\n    wtimes = []\n    for line in contents:\n        if \"cycle\" in line:\n            newcycle = True\n            if(ncycles>0):\n                t = float(words[7])\n                if(words[8]==\"min\"):\n                    t *= 60\n                wtimes.append(t)\n            ncycles+=1\n\n        if \"HF exchange (av.)\" in line:\n            words = line.split()\n\n    return wtimes",
      "metadata": {
        "trusted": true
      },
      "execution_count": 6,
      "outputs": [],
      "id": "0620ef6d-bbc4-4f14-9080-9e98a2e94ca0"
    },
    {
      "cell_type": "code",
      "source": "#note the routine will not return time of last cycle\ndef getTtimes(contents):\n    ncycles = 0\n    newcycle = False\n    wtimes = []\n\n    for line in contents:\n        if \"cycle\" in line:\n            newcycle = True\n            if(ncycles>0):\n                tx = float(wordsx[5])\n                if(wordsx[6]==\"min\"):\n                    tx *= 60\n                ty = float(wordsy[5])\n                if(wordsx[6]==\"min\"):\n                    ty *= 60\n                tz = float(wordsz[5])\n                if(wordsx[6]==\"min\"):\n                    tz *= 60\n                wtimes.append(tx+ty+tz)\n            ncycles+=1\n\n        if \"p[x]p[x]\" in line:\n             wordsx = line.split()\n        if \"p[y]p[y]\" in line:\n            wordsy = line.split()\n        if \"p[z]p[z]\" in line:\n            wordsz = line.split()\n\n    return wtimes",
      "metadata": {
        "trusted": true
      },
      "execution_count": 7,
      "outputs": [],
      "id": "0fd127c9-da39-42cc-9c2f-2614597d1fd1"
    },
    {
      "cell_type": "code",
      "source": "#note the routine will not return time of last cycle\ndef getHtimes(contents):\n    ncycles=0\n    newcycle = False\n    offset = -1\n    Helmholtz=-1\n    tot=0.0\n    ta = 0.0\n    wtimes=[]\n    \n    \n    for line in contents:\n        if \"cycle\" in line:\n            newcycle = True\n            if(ncycles>0):\n                tr = float(wordsr[3])\n                wtimes.append(tr+ta)\n            ncycles+=1\n\n        if \"Applying Helmholtz operators\" in line:\n            Helmholtz = 1\n            ta=0.0\n        if(Helmholtz == 1 and (\"Wall time\" in line)):\n            Helmholtz = 0\n        if(Helmholtz == 1 and (\"nds\" in line)):\n            words = line.split()\n            t=float(words[6])\n            if(words[7]==\"min\"):\n                t*=60.0\n            ta += t\n        if \"Computing Helmholtz argument\" in line:\n            offset = 2\n        if (offset==0):\n            wordsr = line.split()\n        offset -= 1\n\n    return wtimes",
      "metadata": {
        "trusted": true
      },
      "execution_count": 8,
      "outputs": [],
      "id": "c81bbe3d-ad7b-468f-8829-8448e18ff4b4"
    },
    {
      "cell_type": "code",
      "source": "#note the routine will not return time of last cycle\ndef getCtimes(contents):\n    ncycles=0\n    newcycle = False\n    offset=0\n    tot = 0.0\n    wtimes = []\n    \n    for line in contents:\n        if \"cycle\" in line:\n            newcycle = True\n            if(ncycles>0):\n                wtimes.append(tot)\n            ncycles+=1\n            tot=0.0\n        if (\"Coulomb density\" in line or \"Coulomb potential\" in line or \"Allreduce Coulomb\" in line) :\n            words = line.split()\n            t = float(words[6])\n            if(words[7]==\"min\"):\n                t *= 60\n            tot += t\n\n    return wtimes",
      "metadata": {
        "trusted": true
      },
      "execution_count": 9,
      "outputs": [],
      "id": "6e14a8f0-b507-4368-a680-58747140ac67"
    },
    {
      "cell_type": "code",
      "source": "#note the routine will not return time of last cycle\ndef getStimes(contents):\n    ncycles=0\n    newcycle = False\n    offset=0\n    t = 0\n    wtimes = []\n    \n    for line in contents:\n        if \"cycle\" in line:\n            newcycle = True\n            if(ncycles>0):\n                wtimes.append(t)\n            ncycles+=1\n        if (\"average size\" in line ) :\n            words = line.split()\n            t = int(words[2])\n\n\n    return wtimes",
      "metadata": {
        "trusted": true
      },
      "execution_count": 10,
      "outputs": [],
      "id": "e127598a-2391-44e4-90ba-88adad59bb8e"
    },
    {
      "cell_type": "code",
      "source": "def getenergy(contents):\n    \n    for line in contents:\n        if \"Total energy       (au) \" in line:\n            words = line.split()\n            energy=float(words[3])\n    return energy",
      "metadata": {
        "trusted": true
      },
      "execution_count": 11,
      "outputs": [],
      "id": "d66b4bd7-f529-490f-98c6-884fec5c00a5"
    },
    {
      "cell_type": "code",
      "source": "from copy import deepcopy\n\n\ndata = []\n\nfor out in outputs:\n \n    item = {\n        \"n_orbitals\": [],\n        \"n_MPI\": [],\n        \"walltime\": [],\n        \"exchange\": [],\n        \"kinetic\": [],\n        \"helmholtz\": [],\n        \"coulomb\": [], \n        \"S\": [],\n    }\n    with out.open(\"r\") as fh:\n        contents = fh.readlines()\n        \n        item[\"n_MPI\"].append(getnMPI(contents))\n        item[\"n_orbitals\"].append(getnorbitals(contents))\n        item[\"walltime\"].append(getwalltimes(contents))\n        item[\"exchange\"].append(getHFtimes(contents))\n        item[\"kinetic\"].append(getTtimes(contents))\n        item[\"helmholtz\"].append(getHtimes(contents))\n        item[\"coulomb\"].append(getCtimes(contents))\n        item[\"S\"].append(getStimes(contents))\n\n    data.append(deepcopy(item))",
      "metadata": {
        "trusted": true
      },
      "execution_count": 12,
      "outputs": [],
      "id": "dafdf366-5d77-4fcc-8c56-29d26e574b4d"
    },
    {
      "cell_type": "code",
      "source": "# aggregate data\nprocessed = {\n    \"n_orbitals\" : [],\n    \"walltime_mean\" : [],\n    \"walltime_stddev\": [],\n    \"exchange_mean\": [],\n    \"exchange_stddev\": [],\n    \"kinetic_mean\": [],\n    \"kinetic_stddev\": [],\n    \"helmholtz_mean\": [],\n    \"helmholtz_stddev\": [],\n    \"coulomb_mean\": [], \n    \"coulomb_stddev\": [],\n    \"S_mean\": [],\n    \"S_stddev\": [],\n}\nfor item in data:\n    n_orb = item[\"n_orbitals\"]\n    processed[\"n_orbitals\"].extend(n_orb)\n    for k in item.keys():\n        if k != \"n_orbitals\" and k != \"n_MPI\":\n            processed[f\"{k}_mean\"].extend(np.mean(item[k]) / n_orb)\n            processed[f\"{k}_stddev\"].extend(np.std(item[k]) / n_orb)",
      "metadata": {
        "trusted": true
      },
      "execution_count": 13,
      "outputs": [],
      "id": "c62903f6-ae6a-42a7-9d4f-149f3c60aa4d"
    },
    {
      "cell_type": "code",
      "source": "import piplite\nawait piplite.install([\"plotly\"])",
      "metadata": {
        "trusted": true
      },
      "execution_count": 24,
      "outputs": [],
      "id": "f2764f91-edad-4504-8724-dc4444fb8e9e"
    },
    {
      "cell_type": "code",
      "source": "import plotly.graph_objects as go",
      "metadata": {
        "trusted": true
      },
      "execution_count": 19,
      "outputs": [],
      "id": "523ada49-2885-40d4-bf0a-948bc9388558"
    },
    {
      "cell_type": "code",
      "source": "# plot data at 5th iteration\nfig = go.Figure()\n\nlabels = [\"Total\", \"Exchange\", \"Kinetic\", \"Coulomb\", \"Helmholtz\"]\n\nxs = [_[\"n_orbitals\"][0] for _ in data]\n\nfor i, v in enumerate([\"walltime\", \"exchange\", \"kinetic\", \"coulomb\", \"helmholtz\"]):\n    # divide each timing by the number of orbitals\n    ys = [_[f\"{v}\"][0][3] / xs[k] for k, _ in enumerate(data)]\n    fig.add_trace(\n        go.Scatter(\n            name=labels[i],\n            mode=\"lines+markers\",\n            marker_symbol=i,\n            x=xs,\n            y=ys,\n        )\n    )",
      "metadata": {
        "trusted": true
      },
      "execution_count": 70,
      "outputs": [],
      "id": "d71b70be-d7e6-494e-9619-9e3d308dead8"
    },
    {
      "cell_type": "code",
      "source": "fig.update_layout(\n    title=r\"Average SCF cycle wall time, scaled by the number of orbitals\",\n    xaxis_title=\"Number of orbitals\",\n    yaxis_title=\"Time per orbital (s)\",\n    height=600,\n    width=1000,\n    xaxis = dict(\n        tickmode='array',\n        tickvals=xs,\n    ),\n)",
      "metadata": {
        "trusted": true
      },
      "execution_count": 71,
      "outputs": [
        {
          "execution_count": 71,
          "output_type": "execute_result",
          "data": {
            "application/vnd.plotly.v1+json": {
              "data": [
                {
                  "marker": {
                    "symbol": 0
                  },
                  "mode": "lines+markers",
                  "name": "Total",
                  "x": [
                    41,
                    81,
                    161,
                    321,
                    481,
                    641,
                    801,
                    961,
                    1121
                  ],
                  "y": [
                    0.29551463414634144,
                    0.3517567901234568,
                    0.3450975155279503,
                    0.4000529595015576,
                    0.46083575883575884,
                    0.46756942277691105,
                    0.4700511860174782,
                    0.5383215400624349,
                    0.5561516503122212
                  ],
                  "type": "scatter"
                },
                {
                  "marker": {
                    "symbol": 1
                  },
                  "mode": "lines+markers",
                  "name": "Exchange",
                  "x": [
                    41,
                    81,
                    161,
                    321,
                    481,
                    641,
                    801,
                    961,
                    1121
                  ],
                  "y": [
                    0.13146341463414635,
                    0.18296296296296297,
                    0.2122360248447205,
                    0.2598130841121495,
                    0.31683991683991686,
                    0.32386895475819033,
                    0.3325842696629214,
                    0.39708636836628514,
                    0.4174843889384478
                  ],
                  "type": "scatter"
                },
                {
                  "marker": {
                    "symbol": 2
                  },
                  "mode": "lines+markers",
                  "name": "Kinetic",
                  "x": [
                    41,
                    81,
                    161,
                    321,
                    481,
                    641,
                    801,
                    961,
                    1121
                  ],
                  "y": [
                    0.016829268292682924,
                    0.018024691358024692,
                    0.016335403726708074,
                    0.017694704049844235,
                    0.017193347193347194,
                    0.017082683307332293,
                    0.014594257178526844,
                    0.014474505723204995,
                    0.013416592328278323
                  ],
                  "type": "scatter"
                },
                {
                  "marker": {
                    "symbol": 3
                  },
                  "mode": "lines+markers",
                  "name": "Coulomb",
                  "x": [
                    41,
                    81,
                    161,
                    321,
                    481,
                    641,
                    801,
                    961,
                    1121
                  ],
                  "y": [
                    0.05219512195121952,
                    0.0445679012345679,
                    0.03863354037267081,
                    0.03862928348909657,
                    0.03503118503118503,
                    0.0378003120124805,
                    0.03495630461922597,
                    0.0322684703433923,
                    0.032729705619982154
                  ],
                  "type": "scatter"
                },
                {
                  "marker": {
                    "symbol": 4
                  },
                  "mode": "lines+markers",
                  "name": "Helmholtz",
                  "x": [
                    41,
                    81,
                    161,
                    321,
                    481,
                    641,
                    801,
                    961,
                    1121
                  ],
                  "y": [
                    0.03728095121951219,
                    0.061027567901234585,
                    0.035041192546583846,
                    0.041471277258566974,
                    0.04381800415800416,
                    0.04493304212168486,
                    0.04100047440699126,
                    0.045318595213319456,
                    0.043983291703835865
                  ],
                  "type": "scatter"
                }
              ],
              "layout": {
                "template": {
                  "data": {
                    "histogram2dcontour": [
                      {
                        "type": "histogram2dcontour",
                        "colorbar": {
                          "outlinewidth": 0,
                          "ticks": ""
                        },
                        "colorscale": [
                          [
                            0,
                            "#0d0887"
                          ],
                          [
                            0.1111111111111111,
                            "#46039f"
                          ],
                          [
                            0.2222222222222222,
                            "#7201a8"
                          ],
                          [
                            0.3333333333333333,
                            "#9c179e"
                          ],
                          [
                            0.4444444444444444,
                            "#bd3786"
                          ],
                          [
                            0.5555555555555556,
                            "#d8576b"
                          ],
                          [
                            0.6666666666666666,
                            "#ed7953"
                          ],
                          [
                            0.7777777777777778,
                            "#fb9f3a"
                          ],
                          [
                            0.8888888888888888,
                            "#fdca26"
                          ],
                          [
                            1,
                            "#f0f921"
                          ]
                        ]
                      }
                    ],
                    "choropleth": [
                      {
                        "type": "choropleth",
                        "colorbar": {
                          "outlinewidth": 0,
                          "ticks": ""
                        }
                      }
                    ],
                    "histogram2d": [
                      {
                        "type": "histogram2d",
                        "colorbar": {
                          "outlinewidth": 0,
                          "ticks": ""
                        },
                        "colorscale": [
                          [
                            0,
                            "#0d0887"
                          ],
                          [
                            0.1111111111111111,
                            "#46039f"
                          ],
                          [
                            0.2222222222222222,
                            "#7201a8"
                          ],
                          [
                            0.3333333333333333,
                            "#9c179e"
                          ],
                          [
                            0.4444444444444444,
                            "#bd3786"
                          ],
                          [
                            0.5555555555555556,
                            "#d8576b"
                          ],
                          [
                            0.6666666666666666,
                            "#ed7953"
                          ],
                          [
                            0.7777777777777778,
                            "#fb9f3a"
                          ],
                          [
                            0.8888888888888888,
                            "#fdca26"
                          ],
                          [
                            1,
                            "#f0f921"
                          ]
                        ]
                      }
                    ],
                    "heatmap": [
                      {
                        "type": "heatmap",
                        "colorbar": {
                          "outlinewidth": 0,
                          "ticks": ""
                        },
                        "colorscale": [
                          [
                            0,
                            "#0d0887"
                          ],
                          [
                            0.1111111111111111,
                            "#46039f"
                          ],
                          [
                            0.2222222222222222,
                            "#7201a8"
                          ],
                          [
                            0.3333333333333333,
                            "#9c179e"
                          ],
                          [
                            0.4444444444444444,
                            "#bd3786"
                          ],
                          [
                            0.5555555555555556,
                            "#d8576b"
                          ],
                          [
                            0.6666666666666666,
                            "#ed7953"
                          ],
                          [
                            0.7777777777777778,
                            "#fb9f3a"
                          ],
                          [
                            0.8888888888888888,
                            "#fdca26"
                          ],
                          [
                            1,
                            "#f0f921"
                          ]
                        ]
                      }
                    ],
                    "heatmapgl": [
                      {
                        "type": "heatmapgl",
                        "colorbar": {
                          "outlinewidth": 0,
                          "ticks": ""
                        },
                        "colorscale": [
                          [
                            0,
                            "#0d0887"
                          ],
                          [
                            0.1111111111111111,
                            "#46039f"
                          ],
                          [
                            0.2222222222222222,
                            "#7201a8"
                          ],
                          [
                            0.3333333333333333,
                            "#9c179e"
                          ],
                          [
                            0.4444444444444444,
                            "#bd3786"
                          ],
                          [
                            0.5555555555555556,
                            "#d8576b"
                          ],
                          [
                            0.6666666666666666,
                            "#ed7953"
                          ],
                          [
                            0.7777777777777778,
                            "#fb9f3a"
                          ],
                          [
                            0.8888888888888888,
                            "#fdca26"
                          ],
                          [
                            1,
                            "#f0f921"
                          ]
                        ]
                      }
                    ],
                    "contourcarpet": [
                      {
                        "type": "contourcarpet",
                        "colorbar": {
                          "outlinewidth": 0,
                          "ticks": ""
                        }
                      }
                    ],
                    "contour": [
                      {
                        "type": "contour",
                        "colorbar": {
                          "outlinewidth": 0,
                          "ticks": ""
                        },
                        "colorscale": [
                          [
                            0,
                            "#0d0887"
                          ],
                          [
                            0.1111111111111111,
                            "#46039f"
                          ],
                          [
                            0.2222222222222222,
                            "#7201a8"
                          ],
                          [
                            0.3333333333333333,
                            "#9c179e"
                          ],
                          [
                            0.4444444444444444,
                            "#bd3786"
                          ],
                          [
                            0.5555555555555556,
                            "#d8576b"
                          ],
                          [
                            0.6666666666666666,
                            "#ed7953"
                          ],
                          [
                            0.7777777777777778,
                            "#fb9f3a"
                          ],
                          [
                            0.8888888888888888,
                            "#fdca26"
                          ],
                          [
                            1,
                            "#f0f921"
                          ]
                        ]
                      }
                    ],
                    "surface": [
                      {
                        "type": "surface",
                        "colorbar": {
                          "outlinewidth": 0,
                          "ticks": ""
                        },
                        "colorscale": [
                          [
                            0,
                            "#0d0887"
                          ],
                          [
                            0.1111111111111111,
                            "#46039f"
                          ],
                          [
                            0.2222222222222222,
                            "#7201a8"
                          ],
                          [
                            0.3333333333333333,
                            "#9c179e"
                          ],
                          [
                            0.4444444444444444,
                            "#bd3786"
                          ],
                          [
                            0.5555555555555556,
                            "#d8576b"
                          ],
                          [
                            0.6666666666666666,
                            "#ed7953"
                          ],
                          [
                            0.7777777777777778,
                            "#fb9f3a"
                          ],
                          [
                            0.8888888888888888,
                            "#fdca26"
                          ],
                          [
                            1,
                            "#f0f921"
                          ]
                        ]
                      }
                    ],
                    "mesh3d": [
                      {
                        "type": "mesh3d",
                        "colorbar": {
                          "outlinewidth": 0,
                          "ticks": ""
                        }
                      }
                    ],
                    "scatter": [
                      {
                        "fillpattern": {
                          "fillmode": "overlay",
                          "size": 10,
                          "solidity": 0.2
                        },
                        "type": "scatter"
                      }
                    ],
                    "parcoords": [
                      {
                        "type": "parcoords",
                        "line": {
                          "colorbar": {
                            "outlinewidth": 0,
                            "ticks": ""
                          }
                        }
                      }
                    ],
                    "scatterpolargl": [
                      {
                        "type": "scatterpolargl",
                        "marker": {
                          "colorbar": {
                            "outlinewidth": 0,
                            "ticks": ""
                          }
                        }
                      }
                    ],
                    "bar": [
                      {
                        "error_x": {
                          "color": "#2a3f5f"
                        },
                        "error_y": {
                          "color": "#2a3f5f"
                        },
                        "marker": {
                          "line": {
                            "color": "#E5ECF6",
                            "width": 0.5
                          },
                          "pattern": {
                            "fillmode": "overlay",
                            "size": 10,
                            "solidity": 0.2
                          }
                        },
                        "type": "bar"
                      }
                    ],
                    "scattergeo": [
                      {
                        "type": "scattergeo",
                        "marker": {
                          "colorbar": {
                            "outlinewidth": 0,
                            "ticks": ""
                          }
                        }
                      }
                    ],
                    "scatterpolar": [
                      {
                        "type": "scatterpolar",
                        "marker": {
                          "colorbar": {
                            "outlinewidth": 0,
                            "ticks": ""
                          }
                        }
                      }
                    ],
                    "histogram": [
                      {
                        "marker": {
                          "pattern": {
                            "fillmode": "overlay",
                            "size": 10,
                            "solidity": 0.2
                          }
                        },
                        "type": "histogram"
                      }
                    ],
                    "scattergl": [
                      {
                        "type": "scattergl",
                        "marker": {
                          "colorbar": {
                            "outlinewidth": 0,
                            "ticks": ""
                          }
                        }
                      }
                    ],
                    "scatter3d": [
                      {
                        "type": "scatter3d",
                        "line": {
                          "colorbar": {
                            "outlinewidth": 0,
                            "ticks": ""
                          }
                        },
                        "marker": {
                          "colorbar": {
                            "outlinewidth": 0,
                            "ticks": ""
                          }
                        }
                      }
                    ],
                    "scattermapbox": [
                      {
                        "type": "scattermapbox",
                        "marker": {
                          "colorbar": {
                            "outlinewidth": 0,
                            "ticks": ""
                          }
                        }
                      }
                    ],
                    "scatterternary": [
                      {
                        "type": "scatterternary",
                        "marker": {
                          "colorbar": {
                            "outlinewidth": 0,
                            "ticks": ""
                          }
                        }
                      }
                    ],
                    "scattercarpet": [
                      {
                        "type": "scattercarpet",
                        "marker": {
                          "colorbar": {
                            "outlinewidth": 0,
                            "ticks": ""
                          }
                        }
                      }
                    ],
                    "carpet": [
                      {
                        "aaxis": {
                          "endlinecolor": "#2a3f5f",
                          "gridcolor": "white",
                          "linecolor": "white",
                          "minorgridcolor": "white",
                          "startlinecolor": "#2a3f5f"
                        },
                        "baxis": {
                          "endlinecolor": "#2a3f5f",
                          "gridcolor": "white",
                          "linecolor": "white",
                          "minorgridcolor": "white",
                          "startlinecolor": "#2a3f5f"
                        },
                        "type": "carpet"
                      }
                    ],
                    "table": [
                      {
                        "cells": {
                          "fill": {
                            "color": "#EBF0F8"
                          },
                          "line": {
                            "color": "white"
                          }
                        },
                        "header": {
                          "fill": {
                            "color": "#C8D4E3"
                          },
                          "line": {
                            "color": "white"
                          }
                        },
                        "type": "table"
                      }
                    ],
                    "barpolar": [
                      {
                        "marker": {
                          "line": {
                            "color": "#E5ECF6",
                            "width": 0.5
                          },
                          "pattern": {
                            "fillmode": "overlay",
                            "size": 10,
                            "solidity": 0.2
                          }
                        },
                        "type": "barpolar"
                      }
                    ],
                    "pie": [
                      {
                        "automargin": true,
                        "type": "pie"
                      }
                    ]
                  },
                  "layout": {
                    "autotypenumbers": "strict",
                    "colorway": [
                      "#636efa",
                      "#EF553B",
                      "#00cc96",
                      "#ab63fa",
                      "#FFA15A",
                      "#19d3f3",
                      "#FF6692",
                      "#B6E880",
                      "#FF97FF",
                      "#FECB52"
                    ],
                    "font": {
                      "color": "#2a3f5f"
                    },
                    "hovermode": "closest",
                    "hoverlabel": {
                      "align": "left"
                    },
                    "paper_bgcolor": "white",
                    "plot_bgcolor": "#E5ECF6",
                    "polar": {
                      "bgcolor": "#E5ECF6",
                      "angularaxis": {
                        "gridcolor": "white",
                        "linecolor": "white",
                        "ticks": ""
                      },
                      "radialaxis": {
                        "gridcolor": "white",
                        "linecolor": "white",
                        "ticks": ""
                      }
                    },
                    "ternary": {
                      "bgcolor": "#E5ECF6",
                      "aaxis": {
                        "gridcolor": "white",
                        "linecolor": "white",
                        "ticks": ""
                      },
                      "baxis": {
                        "gridcolor": "white",
                        "linecolor": "white",
                        "ticks": ""
                      },
                      "caxis": {
                        "gridcolor": "white",
                        "linecolor": "white",
                        "ticks": ""
                      }
                    },
                    "coloraxis": {
                      "colorbar": {
                        "outlinewidth": 0,
                        "ticks": ""
                      }
                    },
                    "colorscale": {
                      "sequential": [
                        [
                          0,
                          "#0d0887"
                        ],
                        [
                          0.1111111111111111,
                          "#46039f"
                        ],
                        [
                          0.2222222222222222,
                          "#7201a8"
                        ],
                        [
                          0.3333333333333333,
                          "#9c179e"
                        ],
                        [
                          0.4444444444444444,
                          "#bd3786"
                        ],
                        [
                          0.5555555555555556,
                          "#d8576b"
                        ],
                        [
                          0.6666666666666666,
                          "#ed7953"
                        ],
                        [
                          0.7777777777777778,
                          "#fb9f3a"
                        ],
                        [
                          0.8888888888888888,
                          "#fdca26"
                        ],
                        [
                          1,
                          "#f0f921"
                        ]
                      ],
                      "sequentialminus": [
                        [
                          0,
                          "#0d0887"
                        ],
                        [
                          0.1111111111111111,
                          "#46039f"
                        ],
                        [
                          0.2222222222222222,
                          "#7201a8"
                        ],
                        [
                          0.3333333333333333,
                          "#9c179e"
                        ],
                        [
                          0.4444444444444444,
                          "#bd3786"
                        ],
                        [
                          0.5555555555555556,
                          "#d8576b"
                        ],
                        [
                          0.6666666666666666,
                          "#ed7953"
                        ],
                        [
                          0.7777777777777778,
                          "#fb9f3a"
                        ],
                        [
                          0.8888888888888888,
                          "#fdca26"
                        ],
                        [
                          1,
                          "#f0f921"
                        ]
                      ],
                      "diverging": [
                        [
                          0,
                          "#8e0152"
                        ],
                        [
                          0.1,
                          "#c51b7d"
                        ],
                        [
                          0.2,
                          "#de77ae"
                        ],
                        [
                          0.3,
                          "#f1b6da"
                        ],
                        [
                          0.4,
                          "#fde0ef"
                        ],
                        [
                          0.5,
                          "#f7f7f7"
                        ],
                        [
                          0.6,
                          "#e6f5d0"
                        ],
                        [
                          0.7,
                          "#b8e186"
                        ],
                        [
                          0.8,
                          "#7fbc41"
                        ],
                        [
                          0.9,
                          "#4d9221"
                        ],
                        [
                          1,
                          "#276419"
                        ]
                      ]
                    },
                    "xaxis": {
                      "gridcolor": "white",
                      "linecolor": "white",
                      "ticks": "",
                      "title": {
                        "standoff": 15
                      },
                      "zerolinecolor": "white",
                      "automargin": true,
                      "zerolinewidth": 2
                    },
                    "yaxis": {
                      "gridcolor": "white",
                      "linecolor": "white",
                      "ticks": "",
                      "title": {
                        "standoff": 15
                      },
                      "zerolinecolor": "white",
                      "automargin": true,
                      "zerolinewidth": 2
                    },
                    "scene": {
                      "xaxis": {
                        "backgroundcolor": "#E5ECF6",
                        "gridcolor": "white",
                        "linecolor": "white",
                        "showbackground": true,
                        "ticks": "",
                        "zerolinecolor": "white",
                        "gridwidth": 2
                      },
                      "yaxis": {
                        "backgroundcolor": "#E5ECF6",
                        "gridcolor": "white",
                        "linecolor": "white",
                        "showbackground": true,
                        "ticks": "",
                        "zerolinecolor": "white",
                        "gridwidth": 2
                      },
                      "zaxis": {
                        "backgroundcolor": "#E5ECF6",
                        "gridcolor": "white",
                        "linecolor": "white",
                        "showbackground": true,
                        "ticks": "",
                        "zerolinecolor": "white",
                        "gridwidth": 2
                      }
                    },
                    "shapedefaults": {
                      "line": {
                        "color": "#2a3f5f"
                      }
                    },
                    "annotationdefaults": {
                      "arrowcolor": "#2a3f5f",
                      "arrowhead": 0,
                      "arrowwidth": 1
                    },
                    "geo": {
                      "bgcolor": "white",
                      "landcolor": "#E5ECF6",
                      "subunitcolor": "white",
                      "showland": true,
                      "showlakes": true,
                      "lakecolor": "white"
                    },
                    "title": {
                      "x": 0.05
                    },
                    "mapbox": {
                      "style": "light"
                    }
                  }
                },
                "xaxis": {
                  "title": {
                    "text": "Number of orbitals"
                  },
                  "tickmode": "array",
                  "tickvals": [
                    41,
                    81,
                    161,
                    321,
                    481,
                    641,
                    801,
                    961,
                    1121
                  ],
                  "type": "linear",
                  "range": [
                    -25.40478223740395,
                    1187.4047822374039
                  ],
                  "autorange": true
                },
                "title": {
                  "text": "Average SCF cycle wall time, scaled by the number of orbitals"
                },
                "yaxis": {
                  "title": {
                    "text": "Time per orbital (s)"
                  },
                  "type": "linear",
                  "range": [
                    -0.022838988468219888,
                    0.5924072311087194
                  ],
                  "autorange": true
                },
                "height": 600,
                "width": 1000
              },
              "config": {
                "plotlyServerURL": "https://plot.ly"
              }
            },
            "text/html": "<div>                            <div id=\"d2e107bd-468e-44f7-9c91-ced71a89f265\" class=\"plotly-graph-div\" style=\"height:600px; width:1000px;\"></div>            <script type=\"text/javascript\">                require([\"plotly\"], function(Plotly) {                    window.PLOTLYENV=window.PLOTLYENV || {};                                    if (document.getElementById(\"d2e107bd-468e-44f7-9c91-ced71a89f265\")) {                    Plotly.newPlot(                        \"d2e107bd-468e-44f7-9c91-ced71a89f265\",                        [{\"marker\":{\"symbol\":0},\"mode\":\"lines+markers\",\"name\":\"Total\",\"x\":[41,81,161,321,481,641,801,961,1121],\"y\":[0.29551463414634144,0.3517567901234568,0.3450975155279503,0.4000529595015576,0.46083575883575884,0.46756942277691105,0.4700511860174782,0.5383215400624349,0.5561516503122212],\"type\":\"scatter\"},{\"marker\":{\"symbol\":1},\"mode\":\"lines+markers\",\"name\":\"Exchange\",\"x\":[41,81,161,321,481,641,801,961,1121],\"y\":[0.13146341463414635,0.18296296296296297,0.2122360248447205,0.2598130841121495,0.31683991683991686,0.32386895475819033,0.3325842696629214,0.39708636836628514,0.4174843889384478],\"type\":\"scatter\"},{\"marker\":{\"symbol\":2},\"mode\":\"lines+markers\",\"name\":\"Kinetic\",\"x\":[41,81,161,321,481,641,801,961,1121],\"y\":[0.016829268292682924,0.018024691358024692,0.016335403726708074,0.017694704049844235,0.017193347193347194,0.017082683307332293,0.014594257178526844,0.014474505723204995,0.013416592328278323],\"type\":\"scatter\"},{\"marker\":{\"symbol\":3},\"mode\":\"lines+markers\",\"name\":\"Coulomb\",\"x\":[41,81,161,321,481,641,801,961,1121],\"y\":[0.05219512195121952,0.0445679012345679,0.03863354037267081,0.03862928348909657,0.03503118503118503,0.0378003120124805,0.03495630461922597,0.0322684703433923,0.032729705619982154],\"type\":\"scatter\"},{\"marker\":{\"symbol\":4},\"mode\":\"lines+markers\",\"name\":\"Helmholtz\",\"x\":[41,81,161,321,481,641,801,961,1121],\"y\":[0.03728095121951219,0.061027567901234585,0.035041192546583846,0.041471277258566974,0.04381800415800416,0.04493304212168486,0.04100047440699126,0.045318595213319456,0.043983291703835865],\"type\":\"scatter\"}],                        {\"template\":{\"data\":{\"histogram2dcontour\":[{\"type\":\"histogram2dcontour\",\"colorbar\":{\"outlinewidth\":0,\"ticks\":\"\"},\"colorscale\":[[0.0,\"#0d0887\"],[0.1111111111111111,\"#46039f\"],[0.2222222222222222,\"#7201a8\"],[0.3333333333333333,\"#9c179e\"],[0.4444444444444444,\"#bd3786\"],[0.5555555555555556,\"#d8576b\"],[0.6666666666666666,\"#ed7953\"],[0.7777777777777778,\"#fb9f3a\"],[0.8888888888888888,\"#fdca26\"],[1.0,\"#f0f921\"]]}],\"choropleth\":[{\"type\":\"choropleth\",\"colorbar\":{\"outlinewidth\":0,\"ticks\":\"\"}}],\"histogram2d\":[{\"type\":\"histogram2d\",\"colorbar\":{\"outlinewidth\":0,\"ticks\":\"\"},\"colorscale\":[[0.0,\"#0d0887\"],[0.1111111111111111,\"#46039f\"],[0.2222222222222222,\"#7201a8\"],[0.3333333333333333,\"#9c179e\"],[0.4444444444444444,\"#bd3786\"],[0.5555555555555556,\"#d8576b\"],[0.6666666666666666,\"#ed7953\"],[0.7777777777777778,\"#fb9f3a\"],[0.8888888888888888,\"#fdca26\"],[1.0,\"#f0f921\"]]}],\"heatmap\":[{\"type\":\"heatmap\",\"colorbar\":{\"outlinewidth\":0,\"ticks\":\"\"},\"colorscale\":[[0.0,\"#0d0887\"],[0.1111111111111111,\"#46039f\"],[0.2222222222222222,\"#7201a8\"],[0.3333333333333333,\"#9c179e\"],[0.4444444444444444,\"#bd3786\"],[0.5555555555555556,\"#d8576b\"],[0.6666666666666666,\"#ed7953\"],[0.7777777777777778,\"#fb9f3a\"],[0.8888888888888888,\"#fdca26\"],[1.0,\"#f0f921\"]]}],\"heatmapgl\":[{\"type\":\"heatmapgl\",\"colorbar\":{\"outlinewidth\":0,\"ticks\":\"\"},\"colorscale\":[[0.0,\"#0d0887\"],[0.1111111111111111,\"#46039f\"],[0.2222222222222222,\"#7201a8\"],[0.3333333333333333,\"#9c179e\"],[0.4444444444444444,\"#bd3786\"],[0.5555555555555556,\"#d8576b\"],[0.6666666666666666,\"#ed7953\"],[0.7777777777777778,\"#fb9f3a\"],[0.8888888888888888,\"#fdca26\"],[1.0,\"#f0f921\"]]}],\"contourcarpet\":[{\"type\":\"contourcarpet\",\"colorbar\":{\"outlinewidth\":0,\"ticks\":\"\"}}],\"contour\":[{\"type\":\"contour\",\"colorbar\":{\"outlinewidth\":0,\"ticks\":\"\"},\"colorscale\":[[0.0,\"#0d0887\"],[0.1111111111111111,\"#46039f\"],[0.2222222222222222,\"#7201a8\"],[0.3333333333333333,\"#9c179e\"],[0.4444444444444444,\"#bd3786\"],[0.5555555555555556,\"#d8576b\"],[0.6666666666666666,\"#ed7953\"],[0.7777777777777778,\"#fb9f3a\"],[0.8888888888888888,\"#fdca26\"],[1.0,\"#f0f921\"]]}],\"surface\":[{\"type\":\"surface\",\"colorbar\":{\"outlinewidth\":0,\"ticks\":\"\"},\"colorscale\":[[0.0,\"#0d0887\"],[0.1111111111111111,\"#46039f\"],[0.2222222222222222,\"#7201a8\"],[0.3333333333333333,\"#9c179e\"],[0.4444444444444444,\"#bd3786\"],[0.5555555555555556,\"#d8576b\"],[0.6666666666666666,\"#ed7953\"],[0.7777777777777778,\"#fb9f3a\"],[0.8888888888888888,\"#fdca26\"],[1.0,\"#f0f921\"]]}],\"mesh3d\":[{\"type\":\"mesh3d\",\"colorbar\":{\"outlinewidth\":0,\"ticks\":\"\"}}],\"scatter\":[{\"fillpattern\":{\"fillmode\":\"overlay\",\"size\":10,\"solidity\":0.2},\"type\":\"scatter\"}],\"parcoords\":[{\"type\":\"parcoords\",\"line\":{\"colorbar\":{\"outlinewidth\":0,\"ticks\":\"\"}}}],\"scatterpolargl\":[{\"type\":\"scatterpolargl\",\"marker\":{\"colorbar\":{\"outlinewidth\":0,\"ticks\":\"\"}}}],\"bar\":[{\"error_x\":{\"color\":\"#2a3f5f\"},\"error_y\":{\"color\":\"#2a3f5f\"},\"marker\":{\"line\":{\"color\":\"#E5ECF6\",\"width\":0.5},\"pattern\":{\"fillmode\":\"overlay\",\"size\":10,\"solidity\":0.2}},\"type\":\"bar\"}],\"scattergeo\":[{\"type\":\"scattergeo\",\"marker\":{\"colorbar\":{\"outlinewidth\":0,\"ticks\":\"\"}}}],\"scatterpolar\":[{\"type\":\"scatterpolar\",\"marker\":{\"colorbar\":{\"outlinewidth\":0,\"ticks\":\"\"}}}],\"histogram\":[{\"marker\":{\"pattern\":{\"fillmode\":\"overlay\",\"size\":10,\"solidity\":0.2}},\"type\":\"histogram\"}],\"scattergl\":[{\"type\":\"scattergl\",\"marker\":{\"colorbar\":{\"outlinewidth\":0,\"ticks\":\"\"}}}],\"scatter3d\":[{\"type\":\"scatter3d\",\"line\":{\"colorbar\":{\"outlinewidth\":0,\"ticks\":\"\"}},\"marker\":{\"colorbar\":{\"outlinewidth\":0,\"ticks\":\"\"}}}],\"scattermapbox\":[{\"type\":\"scattermapbox\",\"marker\":{\"colorbar\":{\"outlinewidth\":0,\"ticks\":\"\"}}}],\"scatterternary\":[{\"type\":\"scatterternary\",\"marker\":{\"colorbar\":{\"outlinewidth\":0,\"ticks\":\"\"}}}],\"scattercarpet\":[{\"type\":\"scattercarpet\",\"marker\":{\"colorbar\":{\"outlinewidth\":0,\"ticks\":\"\"}}}],\"carpet\":[{\"aaxis\":{\"endlinecolor\":\"#2a3f5f\",\"gridcolor\":\"white\",\"linecolor\":\"white\",\"minorgridcolor\":\"white\",\"startlinecolor\":\"#2a3f5f\"},\"baxis\":{\"endlinecolor\":\"#2a3f5f\",\"gridcolor\":\"white\",\"linecolor\":\"white\",\"minorgridcolor\":\"white\",\"startlinecolor\":\"#2a3f5f\"},\"type\":\"carpet\"}],\"table\":[{\"cells\":{\"fill\":{\"color\":\"#EBF0F8\"},\"line\":{\"color\":\"white\"}},\"header\":{\"fill\":{\"color\":\"#C8D4E3\"},\"line\":{\"color\":\"white\"}},\"type\":\"table\"}],\"barpolar\":[{\"marker\":{\"line\":{\"color\":\"#E5ECF6\",\"width\":0.5},\"pattern\":{\"fillmode\":\"overlay\",\"size\":10,\"solidity\":0.2}},\"type\":\"barpolar\"}],\"pie\":[{\"automargin\":true,\"type\":\"pie\"}]},\"layout\":{\"autotypenumbers\":\"strict\",\"colorway\":[\"#636efa\",\"#EF553B\",\"#00cc96\",\"#ab63fa\",\"#FFA15A\",\"#19d3f3\",\"#FF6692\",\"#B6E880\",\"#FF97FF\",\"#FECB52\"],\"font\":{\"color\":\"#2a3f5f\"},\"hovermode\":\"closest\",\"hoverlabel\":{\"align\":\"left\"},\"paper_bgcolor\":\"white\",\"plot_bgcolor\":\"#E5ECF6\",\"polar\":{\"bgcolor\":\"#E5ECF6\",\"angularaxis\":{\"gridcolor\":\"white\",\"linecolor\":\"white\",\"ticks\":\"\"},\"radialaxis\":{\"gridcolor\":\"white\",\"linecolor\":\"white\",\"ticks\":\"\"}},\"ternary\":{\"bgcolor\":\"#E5ECF6\",\"aaxis\":{\"gridcolor\":\"white\",\"linecolor\":\"white\",\"ticks\":\"\"},\"baxis\":{\"gridcolor\":\"white\",\"linecolor\":\"white\",\"ticks\":\"\"},\"caxis\":{\"gridcolor\":\"white\",\"linecolor\":\"white\",\"ticks\":\"\"}},\"coloraxis\":{\"colorbar\":{\"outlinewidth\":0,\"ticks\":\"\"}},\"colorscale\":{\"sequential\":[[0.0,\"#0d0887\"],[0.1111111111111111,\"#46039f\"],[0.2222222222222222,\"#7201a8\"],[0.3333333333333333,\"#9c179e\"],[0.4444444444444444,\"#bd3786\"],[0.5555555555555556,\"#d8576b\"],[0.6666666666666666,\"#ed7953\"],[0.7777777777777778,\"#fb9f3a\"],[0.8888888888888888,\"#fdca26\"],[1.0,\"#f0f921\"]],\"sequentialminus\":[[0.0,\"#0d0887\"],[0.1111111111111111,\"#46039f\"],[0.2222222222222222,\"#7201a8\"],[0.3333333333333333,\"#9c179e\"],[0.4444444444444444,\"#bd3786\"],[0.5555555555555556,\"#d8576b\"],[0.6666666666666666,\"#ed7953\"],[0.7777777777777778,\"#fb9f3a\"],[0.8888888888888888,\"#fdca26\"],[1.0,\"#f0f921\"]],\"diverging\":[[0,\"#8e0152\"],[0.1,\"#c51b7d\"],[0.2,\"#de77ae\"],[0.3,\"#f1b6da\"],[0.4,\"#fde0ef\"],[0.5,\"#f7f7f7\"],[0.6,\"#e6f5d0\"],[0.7,\"#b8e186\"],[0.8,\"#7fbc41\"],[0.9,\"#4d9221\"],[1,\"#276419\"]]},\"xaxis\":{\"gridcolor\":\"white\",\"linecolor\":\"white\",\"ticks\":\"\",\"title\":{\"standoff\":15},\"zerolinecolor\":\"white\",\"automargin\":true,\"zerolinewidth\":2},\"yaxis\":{\"gridcolor\":\"white\",\"linecolor\":\"white\",\"ticks\":\"\",\"title\":{\"standoff\":15},\"zerolinecolor\":\"white\",\"automargin\":true,\"zerolinewidth\":2},\"scene\":{\"xaxis\":{\"backgroundcolor\":\"#E5ECF6\",\"gridcolor\":\"white\",\"linecolor\":\"white\",\"showbackground\":true,\"ticks\":\"\",\"zerolinecolor\":\"white\",\"gridwidth\":2},\"yaxis\":{\"backgroundcolor\":\"#E5ECF6\",\"gridcolor\":\"white\",\"linecolor\":\"white\",\"showbackground\":true,\"ticks\":\"\",\"zerolinecolor\":\"white\",\"gridwidth\":2},\"zaxis\":{\"backgroundcolor\":\"#E5ECF6\",\"gridcolor\":\"white\",\"linecolor\":\"white\",\"showbackground\":true,\"ticks\":\"\",\"zerolinecolor\":\"white\",\"gridwidth\":2}},\"shapedefaults\":{\"line\":{\"color\":\"#2a3f5f\"}},\"annotationdefaults\":{\"arrowcolor\":\"#2a3f5f\",\"arrowhead\":0,\"arrowwidth\":1},\"geo\":{\"bgcolor\":\"white\",\"landcolor\":\"#E5ECF6\",\"subunitcolor\":\"white\",\"showland\":true,\"showlakes\":true,\"lakecolor\":\"white\"},\"title\":{\"x\":0.05},\"mapbox\":{\"style\":\"light\"}}},\"xaxis\":{\"title\":{\"text\":\"Number of orbitals\"},\"tickmode\":\"array\",\"tickvals\":[41,81,161,321,481,641,801,961,1121]},\"title\":{\"text\":\"Average SCF cycle wall time, scaled by the number of orbitals\"},\"yaxis\":{\"title\":{\"text\":\"Time per orbital (s)\"}},\"height\":600,\"width\":1000},                        {\"responsive\": true}                    ).then(function(){\n                            \nvar gd = document.getElementById('d2e107bd-468e-44f7-9c91-ced71a89f265');\nvar x = new MutationObserver(function (mutations, observer) {{\n        var display = window.getComputedStyle(gd).display;\n        if (!display || display === 'none') {{\n            console.log([gd, 'removed!']);\n            Plotly.purge(gd);\n            observer.disconnect();\n        }}\n}});\n\n// Listen for the removal of the full notebook cells\nvar notebookContainer = gd.closest('#notebook-container');\nif (notebookContainer) {{\n    x.observe(notebookContainer, {childList: true});\n}}\n\n// Listen for the clearing of the current output cell\nvar outputEl = gd.closest('.output');\nif (outputEl) {{\n    x.observe(outputEl, {childList: true});\n}}\n\n                        })                };                });            </script>        </div>",
            "text/plain": "Figure({\n    'data': [{'marker': {'symbol': 0},\n              'mode': 'lines+markers',\n              'name': 'Total',\n              'type': 'scatter',\n              'x': [41, 81, 161, 321, 481, 641, 801, 961, 1121],\n              'y': [0.29551463414634144, 0.3517567901234568, 0.3450975155279503,\n                    0.4000529595015576, 0.46083575883575884, 0.46756942277691105,\n                    0.4700511860174782, 0.5383215400624349, 0.5561516503122212]},\n             {'marker': {'symbol': 1},\n              'mode': 'lines+markers',\n              'name': 'Exchange',\n              'type': 'scatter',\n              'x': [41, 81, 161, 321, 481, 641, 801, 961, 1121],\n              'y': [0.13146341463414635, 0.18296296296296297, 0.2122360248447205,\n                    0.2598130841121495, 0.31683991683991686, 0.32386895475819033,\n                    0.3325842696629214, 0.39708636836628514, 0.4174843889384478]},\n             {'marker': {'symbol': 2},\n              'mode': 'lines+markers',\n              'name': 'Kinetic',\n              'type': 'scatter',\n              'x': [41, 81, 161, 321, 481, 641, 801, 961, 1121],\n              'y': [0.016829268292682924, 0.018024691358024692,\n                    0.016335403726708074, 0.017694704049844235,\n                    0.017193347193347194, 0.017082683307332293,\n                    0.014594257178526844, 0.014474505723204995,\n                    0.013416592328278323]},\n             {'marker': {'symbol': 3},\n              'mode': 'lines+markers',\n              'name': 'Coulomb',\n              'type': 'scatter',\n              'x': [41, 81, 161, 321, 481, 641, 801, 961, 1121],\n              'y': [0.05219512195121952, 0.0445679012345679, 0.03863354037267081,\n                    0.03862928348909657, 0.03503118503118503, 0.0378003120124805,\n                    0.03495630461922597, 0.0322684703433923, 0.032729705619982154]},\n             {'marker': {'symbol': 4},\n              'mode': 'lines+markers',\n              'name': 'Helmholtz',\n              'type': 'scatter',\n              'x': [41, 81, 161, 321, 481, 641, 801, 961, 1121],\n              'y': [0.03728095121951219, 0.061027567901234585,\n                    0.035041192546583846, 0.041471277258566974,\n                    0.04381800415800416, 0.04493304212168486, 0.04100047440699126,\n                    0.045318595213319456, 0.043983291703835865]}],\n    'layout': {'height': 600,\n               'template': '...',\n               'title': {'text': 'Average SCF cycle wall time, scaled by the number of orbitals'},\n               'width': 1000,\n               'xaxis': {'tickmode': 'array',\n                         'tickvals': [41, 81, 161, 321, 481, 641, 801, 961, 1121],\n                         'title': {'text': 'Number of orbitals'}},\n               'yaxis': {'title': {'text': 'Time per orbital (s)'}}}\n})",
            "image/png": "[encoded data removed]"
          },
          "metadata": {}
        },
        {
          "ename": "<class 'ValueError'>",
          "evalue": "Mime type rendering requires nbformat>=4.2.0 but it is not installed",
          "traceback": [
            "\u001b[0;31m---------------------------------------------------------------------------\u001b[0m",
            "\u001b[0;31mValueError\u001b[0m                                Traceback (most recent call last)",
            "File \u001b[0;32m/lib/python3.10/site-packages/IPython/core/formatters.py:921\u001b[0m, in \u001b[0;36mIPythonDisplayFormatter.__call__\u001b[0;34m(self, obj)\u001b[0m\n\u001b[1;32m    919\u001b[0m method \u001b[38;5;241m=\u001b[39m get_real_method(obj, \u001b[38;5;28mself\u001b[39m\u001b[38;5;241m.\u001b[39mprint_method)\n\u001b[1;32m    920\u001b[0m \u001b[38;5;28;01mif\u001b[39;00m method \u001b[38;5;129;01mis\u001b[39;00m \u001b[38;5;129;01mnot\u001b[39;00m \u001b[38;5;28;01mNone\u001b[39;00m:\n\u001b[0;32m--> 921\u001b[0m     \u001b[43mmethod\u001b[49m\u001b[43m(\u001b[49m\u001b[43m)\u001b[49m\n\u001b[1;32m    922\u001b[0m     \u001b[38;5;28;01mreturn\u001b[39;00m \u001b[38;5;28;01mTrue\u001b[39;00m\n",
            "File \u001b[0;32m/lib/python3.10/site-packages/plotly/basedatatypes.py:842\u001b[0m, in \u001b[0;36mBaseFigure._ipython_display_\u001b[0;34m(self)\u001b[0m\n\u001b[1;32m    839\u001b[0m \u001b[38;5;28;01mimport\u001b[39;00m \u001b[38;5;21;01mplotly\u001b[39;00m\u001b[38;5;21;01m.\u001b[39;00m\u001b[38;5;21;01mio\u001b[39;00m \u001b[38;5;28;01mas\u001b[39;00m \u001b[38;5;21;01mpio\u001b[39;00m\n\u001b[1;32m    841\u001b[0m \u001b[38;5;28;01mif\u001b[39;00m pio\u001b[38;5;241m.\u001b[39mrenderers\u001b[38;5;241m.\u001b[39mrender_on_display \u001b[38;5;129;01mand\u001b[39;00m pio\u001b[38;5;241m.\u001b[39mrenderers\u001b[38;5;241m.\u001b[39mdefault:\n\u001b[0;32m--> 842\u001b[0m     \u001b[43mpio\u001b[49m\u001b[38;5;241;43m.\u001b[39;49m\u001b[43mshow\u001b[49m\u001b[43m(\u001b[49m\u001b[38;5;28;43mself\u001b[39;49m\u001b[43m)\u001b[49m\n\u001b[1;32m    843\u001b[0m \u001b[38;5;28;01melse\u001b[39;00m:\n\u001b[1;32m    844\u001b[0m     \u001b[38;5;28mprint\u001b[39m(\u001b[38;5;28mrepr\u001b[39m(\u001b[38;5;28mself\u001b[39m))\n",
            "File \u001b[0;32m/lib/python3.10/site-packages/plotly/io/_renderers.py:396\u001b[0m, in \u001b[0;36mshow\u001b[0;34m(fig, renderer, validate, **kwargs)\u001b[0m\n\u001b[1;32m    391\u001b[0m         \u001b[38;5;28;01mraise\u001b[39;00m \u001b[38;5;167;01mValueError\u001b[39;00m(\n\u001b[1;32m    392\u001b[0m             \u001b[38;5;124m\"\u001b[39m\u001b[38;5;124mMime type rendering requires ipython but it is not installed\u001b[39m\u001b[38;5;124m\"\u001b[39m\n\u001b[1;32m    393\u001b[0m         )\n\u001b[1;32m    395\u001b[0m     \u001b[38;5;28;01mif\u001b[39;00m \u001b[38;5;129;01mnot\u001b[39;00m nbformat \u001b[38;5;129;01mor\u001b[39;00m LooseVersion(nbformat\u001b[38;5;241m.\u001b[39m__version__) \u001b[38;5;241m<\u001b[39m LooseVersion(\u001b[38;5;124m\"\u001b[39m\u001b[38;5;124m4.2.0\u001b[39m\u001b[38;5;124m\"\u001b[39m):\n\u001b[0;32m--> 396\u001b[0m         \u001b[38;5;28;01mraise\u001b[39;00m \u001b[38;5;167;01mValueError\u001b[39;00m(\n\u001b[1;32m    397\u001b[0m             \u001b[38;5;124m\"\u001b[39m\u001b[38;5;124mMime type rendering requires nbformat>=4.2.0 but it is not installed\u001b[39m\u001b[38;5;124m\"\u001b[39m\n\u001b[1;32m    398\u001b[0m         )\n\u001b[1;32m    400\u001b[0m     ipython_display\u001b[38;5;241m.\u001b[39mdisplay(bundle, raw\u001b[38;5;241m=\u001b[39m\u001b[38;5;28;01mTrue\u001b[39;00m)\n\u001b[1;32m    402\u001b[0m \u001b[38;5;66;03m# external renderers\u001b[39;00m\n",
            "\u001b[0;31mValueError\u001b[0m: Mime type rendering requires nbformat>=4.2.0 but it is not installed"
          ],
          "output_type": "error"
        }
      ],
      "id": "33a9cc65-20c1-4a12-8c52-9e04344a4034"
    },
    {
      "cell_type": "code",
      "source": "# plot averages with standard deviations and use log scale\nfig = go.Figure()\n\nlabels = [\"Total\", \"Exchange\", \"Kinetic\", \"Coulomb\", \"Helmholtz\"]\n\nfor i, v in enumerate([\"walltime\", \"exchange\", \"kinetic\", \"coulomb\", \"helmholtz\"]):\n    fig.add_trace(\n        go.Scatter(\n            name=labels[i],\n            mode=\"lines+markers\",\n            marker_symbol=i,\n            x=processed[\"n_orbitals\"],\n            y=processed[f\"{v}_mean\"],\n            error_y=dict(\n                type=\"data\",\n                array=processed[f\"{v}_stddev\"],\n                visible=True,\n            ),\n        )\n    )",
      "metadata": {
        "trusted": true
      },
      "execution_count": 30,
      "outputs": [],
      "id": "86e0e0c6-c153-44cc-80ce-9d8140ef94b9"
    },
    {
      "cell_type": "code",
      "source": "fig.update_layout(\n    hovermode=\"x unified\",\n    title=r\"Average SCF cycle wall time, scaled by the number of orbitals\",\n    xaxis_title=\"Number of orbitals\",\n    yaxis_title=\"Time per orbital (s)\",\n    height=600,\n    width=1000,\n    xaxis = dict(\n        tickmode='array',\n        tickvals=processed[\"n_orbitals\"],\n    ),\n    yaxis=dict(type=\"log\", showexponent=\"all\", exponentformat=\"power\", dtick=1),\n)",
      "metadata": {
        "trusted": true
      },
      "execution_count": 31,
      "outputs": [
        {
          "execution_count": 31,
          "output_type": "execute_result",
          "data": {
            "application/vnd.plotly.v1+json": {
              "data": [
                {
                  "error_y": {
                    "array": [
                      0.061198948607642016,
                      0.07768874569159331,
                      0.08174172090602767,
                      0.0918817194677466,
                      0.1029325489763634,
                      0.09323445815129232,
                      0.10701775494419305,
                      0.12450366284671115,
                      0.15035520066632244
                    ],
                    "type": "data",
                    "visible": true
                  },
                  "marker": {
                    "symbol": 0
                  },
                  "mode": "lines+markers",
                  "name": "Total",
                  "x": [
                    41,
                    81,
                    161,
                    321,
                    481,
                    641,
                    801,
                    961,
                    1121
                  ],
                  "y": [
                    0.31422814258911824,
                    0.3839646090534979,
                    0.37743595583160805,
                    0.43343682935271716,
                    0.49296789096789095,
                    0.49152054082163293,
                    0.5125633236232487,
                    0.596916753381894,
                    0.6273675289919716
                  ],
                  "type": "scatter"
                },
                {
                  "error_y": {
                    "array": [
                      0.006454142849987962,
                      0.003907996740137722,
                      0.007192749077736248,
                      0.011770406907833637,
                      0.014570823673958627,
                      0.017198228683569183,
                      0.013791473688275782,
                      0.01756692131377419,
                      0.00795281877967312
                    ],
                    "type": "data",
                    "visible": true
                  },
                  "marker": {
                    "symbol": 1
                  },
                  "mode": "lines+markers",
                  "name": "Exchange",
                  "x": [
                    41,
                    81,
                    161,
                    321,
                    481,
                    641,
                    801,
                    961,
                    1121
                  ],
                  "y": [
                    0.1272232645403377,
                    0.18031550068587107,
                    0.2095514147688061,
                    0.2581516095534787,
                    0.30561330561330563,
                    0.3159126365054602,
                    0.3311693716188098,
                    0.40277488727020466,
                    0.4138906588505161
                  ],
                  "type": "scatter"
                },
                {
                  "error_y": {
                    "array": [
                      0.000326044037466844,
                      0.0001539776702376109,
                      0.00017810197240253835,
                      0.0009931398642544229,
                      0.0011360562238930767,
                      0.0014229168641043876,
                      0.0007861314386823464,
                      0.0007822155708819947,
                      0.00020358073707369285
                    ],
                    "type": "data",
                    "visible": true
                  },
                  "marker": {
                    "symbol": 2
                  },
                  "mode": "lines+markers",
                  "name": "Kinetic",
                  "x": [
                    41,
                    81,
                    161,
                    321,
                    481,
                    641,
                    801,
                    961,
                    1121
                  ],
                  "y": [
                    0.01671669793621013,
                    0.01806584362139918,
                    0.016231884057971015,
                    0.01648321218414676,
                    0.016437976437976436,
                    0.015882735309412376,
                    0.014165626300457762,
                    0.014640998959417274,
                    0.013518542118006882
                  ],
                  "type": "scatter"
                },
                {
                  "error_y": {
                    "array": [
                      0.017588735455497995,
                      0.014052398296426858,
                      0.011824494102651666,
                      0.012446074795118915,
                      0.010743131098335166,
                      0.009376034164862924,
                      0.010534544914273145,
                      0.009976762917885323,
                      0.011460363355915191
                    ],
                    "type": "data",
                    "visible": true
                  },
                  "marker": {
                    "symbol": 3
                  },
                  "mode": "lines+markers",
                  "name": "Coulomb",
                  "x": [
                    41,
                    81,
                    161,
                    321,
                    481,
                    641,
                    801,
                    961,
                    1121
                  ],
                  "y": [
                    0.05622889305816135,
                    0.04979423868312757,
                    0.04265700483091788,
                    0.03984077535479404,
                    0.03908292908292908,
                    0.037103484139365574,
                    0.03812872797891524,
                    0.03606659729448491,
                    0.03771250159296546
                  ],
                  "type": "scatter"
                },
                {
                  "error_y": {
                    "array": [
                      0.0035820225437476,
                      0.0008468547155074048,
                      0.000771194685847302,
                      0.0005497831370662834,
                      0.0007724940230612656,
                      0.0004132857071808479,
                      0.00007985575819853163,
                      0.00017525440998224294,
                      0.00011504479716092263
                    ],
                    "type": "data",
                    "visible": true
                  },
                  "marker": {
                    "symbol": 4
                  },
                  "mode": "lines+markers",
                  "name": "Helmholtz",
                  "x": [
                    41,
                    81,
                    161,
                    321,
                    481,
                    641,
                    801,
                    961,
                    1121
                  ],
                  "y": [
                    0.036410716697936205,
                    0.06063801646090535,
                    0.03503931055900621,
                    0.04121594323295258,
                    0.04407290136290136,
                    0.045316536661466456,
                    0.040980002774309895,
                    0.04514314718464563,
                    0.044080221740792666
                  ],
                  "type": "scatter"
                }
              ],
              "layout": {
                "template": {
                  "data": {
                    "histogram2dcontour": [
                      {
                        "type": "histogram2dcontour",
                        "colorbar": {
                          "outlinewidth": 0,
                          "ticks": ""
                        },
                        "colorscale": [
                          [
                            0,
                            "#0d0887"
                          ],
                          [
                            0.1111111111111111,
                            "#46039f"
                          ],
                          [
                            0.2222222222222222,
                            "#7201a8"
                          ],
                          [
                            0.3333333333333333,
                            "#9c179e"
                          ],
                          [
                            0.4444444444444444,
                            "#bd3786"
                          ],
                          [
                            0.5555555555555556,
                            "#d8576b"
                          ],
                          [
                            0.6666666666666666,
                            "#ed7953"
                          ],
                          [
                            0.7777777777777778,
                            "#fb9f3a"
                          ],
                          [
                            0.8888888888888888,
                            "#fdca26"
                          ],
                          [
                            1,
                            "#f0f921"
                          ]
                        ]
                      }
                    ],
                    "choropleth": [
                      {
                        "type": "choropleth",
                        "colorbar": {
                          "outlinewidth": 0,
                          "ticks": ""
                        }
                      }
                    ],
                    "histogram2d": [
                      {
                        "type": "histogram2d",
                        "colorbar": {
                          "outlinewidth": 0,
                          "ticks": ""
                        },
                        "colorscale": [
                          [
                            0,
                            "#0d0887"
                          ],
                          [
                            0.1111111111111111,
                            "#46039f"
                          ],
                          [
                            0.2222222222222222,
                            "#7201a8"
                          ],
                          [
                            0.3333333333333333,
                            "#9c179e"
                          ],
                          [
                            0.4444444444444444,
                            "#bd3786"
                          ],
                          [
                            0.5555555555555556,
                            "#d8576b"
                          ],
                          [
                            0.6666666666666666,
                            "#ed7953"
                          ],
                          [
                            0.7777777777777778,
                            "#fb9f3a"
                          ],
                          [
                            0.8888888888888888,
                            "#fdca26"
                          ],
                          [
                            1,
                            "#f0f921"
                          ]
                        ]
                      }
                    ],
                    "heatmap": [
                      {
                        "type": "heatmap",
                        "colorbar": {
                          "outlinewidth": 0,
                          "ticks": ""
                        },
                        "colorscale": [
                          [
                            0,
                            "#0d0887"
                          ],
                          [
                            0.1111111111111111,
                            "#46039f"
                          ],
                          [
                            0.2222222222222222,
                            "#7201a8"
                          ],
                          [
                            0.3333333333333333,
                            "#9c179e"
                          ],
                          [
                            0.4444444444444444,
                            "#bd3786"
                          ],
                          [
                            0.5555555555555556,
                            "#d8576b"
                          ],
                          [
                            0.6666666666666666,
                            "#ed7953"
                          ],
                          [
                            0.7777777777777778,
                            "#fb9f3a"
                          ],
                          [
                            0.8888888888888888,
                            "#fdca26"
                          ],
                          [
                            1,
                            "#f0f921"
                          ]
                        ]
                      }
                    ],
                    "heatmapgl": [
                      {
                        "type": "heatmapgl",
                        "colorbar": {
                          "outlinewidth": 0,
                          "ticks": ""
                        },
                        "colorscale": [
                          [
                            0,
                            "#0d0887"
                          ],
                          [
                            0.1111111111111111,
                            "#46039f"
                          ],
                          [
                            0.2222222222222222,
                            "#7201a8"
                          ],
                          [
                            0.3333333333333333,
                            "#9c179e"
                          ],
                          [
                            0.4444444444444444,
                            "#bd3786"
                          ],
                          [
                            0.5555555555555556,
                            "#d8576b"
                          ],
                          [
                            0.6666666666666666,
                            "#ed7953"
                          ],
                          [
                            0.7777777777777778,
                            "#fb9f3a"
                          ],
                          [
                            0.8888888888888888,
                            "#fdca26"
                          ],
                          [
                            1,
                            "#f0f921"
                          ]
                        ]
                      }
                    ],
                    "contourcarpet": [
                      {
                        "type": "contourcarpet",
                        "colorbar": {
                          "outlinewidth": 0,
                          "ticks": ""
                        }
                      }
                    ],
                    "contour": [
                      {
                        "type": "contour",
                        "colorbar": {
                          "outlinewidth": 0,
                          "ticks": ""
                        },
                        "colorscale": [
                          [
                            0,
                            "#0d0887"
                          ],
                          [
                            0.1111111111111111,
                            "#46039f"
                          ],
                          [
                            0.2222222222222222,
                            "#7201a8"
                          ],
                          [
                            0.3333333333333333,
                            "#9c179e"
                          ],
                          [
                            0.4444444444444444,
                            "#bd3786"
                          ],
                          [
                            0.5555555555555556,
                            "#d8576b"
                          ],
                          [
                            0.6666666666666666,
                            "#ed7953"
                          ],
                          [
                            0.7777777777777778,
                            "#fb9f3a"
                          ],
                          [
                            0.8888888888888888,
                            "#fdca26"
                          ],
                          [
                            1,
                            "#f0f921"
                          ]
                        ]
                      }
                    ],
                    "surface": [
                      {
                        "type": "surface",
                        "colorbar": {
                          "outlinewidth": 0,
                          "ticks": ""
                        },
                        "colorscale": [
                          [
                            0,
                            "#0d0887"
                          ],
                          [
                            0.1111111111111111,
                            "#46039f"
                          ],
                          [
                            0.2222222222222222,
                            "#7201a8"
                          ],
                          [
                            0.3333333333333333,
                            "#9c179e"
                          ],
                          [
                            0.4444444444444444,
                            "#bd3786"
                          ],
                          [
                            0.5555555555555556,
                            "#d8576b"
                          ],
                          [
                            0.6666666666666666,
                            "#ed7953"
                          ],
                          [
                            0.7777777777777778,
                            "#fb9f3a"
                          ],
                          [
                            0.8888888888888888,
                            "#fdca26"
                          ],
                          [
                            1,
                            "#f0f921"
                          ]
                        ]
                      }
                    ],
                    "mesh3d": [
                      {
                        "type": "mesh3d",
                        "colorbar": {
                          "outlinewidth": 0,
                          "ticks": ""
                        }
                      }
                    ],
                    "scatter": [
                      {
                        "fillpattern": {
                          "fillmode": "overlay",
                          "size": 10,
                          "solidity": 0.2
                        },
                        "type": "scatter"
                      }
                    ],
                    "parcoords": [
                      {
                        "type": "parcoords",
                        "line": {
                          "colorbar": {
                            "outlinewidth": 0,
                            "ticks": ""
                          }
                        }
                      }
                    ],
                    "scatterpolargl": [
                      {
                        "type": "scatterpolargl",
                        "marker": {
                          "colorbar": {
                            "outlinewidth": 0,
                            "ticks": ""
                          }
                        }
                      }
                    ],
                    "bar": [
                      {
                        "error_x": {
                          "color": "#2a3f5f"
                        },
                        "error_y": {
                          "color": "#2a3f5f"
                        },
                        "marker": {
                          "line": {
                            "color": "#E5ECF6",
                            "width": 0.5
                          },
                          "pattern": {
                            "fillmode": "overlay",
                            "size": 10,
                            "solidity": 0.2
                          }
                        },
                        "type": "bar"
                      }
                    ],
                    "scattergeo": [
                      {
                        "type": "scattergeo",
                        "marker": {
                          "colorbar": {
                            "outlinewidth": 0,
                            "ticks": ""
                          }
                        }
                      }
                    ],
                    "scatterpolar": [
                      {
                        "type": "scatterpolar",
                        "marker": {
                          "colorbar": {
                            "outlinewidth": 0,
                            "ticks": ""
                          }
                        }
                      }
                    ],
                    "histogram": [
                      {
                        "marker": {
                          "pattern": {
                            "fillmode": "overlay",
                            "size": 10,
                            "solidity": 0.2
                          }
                        },
                        "type": "histogram"
                      }
                    ],
                    "scattergl": [
                      {
                        "type": "scattergl",
                        "marker": {
                          "colorbar": {
                            "outlinewidth": 0,
                            "ticks": ""
                          }
                        }
                      }
                    ],
                    "scatter3d": [
                      {
                        "type": "scatter3d",
                        "line": {
                          "colorbar": {
                            "outlinewidth": 0,
                            "ticks": ""
                          }
                        },
                        "marker": {
                          "colorbar": {
                            "outlinewidth": 0,
                            "ticks": ""
                          }
                        }
                      }
                    ],
                    "scattermapbox": [
                      {
                        "type": "scattermapbox",
                        "marker": {
                          "colorbar": {
                            "outlinewidth": 0,
                            "ticks": ""
                          }
                        }
                      }
                    ],
                    "scatterternary": [
                      {
                        "type": "scatterternary",
                        "marker": {
                          "colorbar": {
                            "outlinewidth": 0,
                            "ticks": ""
                          }
                        }
                      }
                    ],
                    "scattercarpet": [
                      {
                        "type": "scattercarpet",
                        "marker": {
                          "colorbar": {
                            "outlinewidth": 0,
                            "ticks": ""
                          }
                        }
                      }
                    ],
                    "carpet": [
                      {
                        "aaxis": {
                          "endlinecolor": "#2a3f5f",
                          "gridcolor": "white",
                          "linecolor": "white",
                          "minorgridcolor": "white",
                          "startlinecolor": "#2a3f5f"
                        },
                        "baxis": {
                          "endlinecolor": "#2a3f5f",
                          "gridcolor": "white",
                          "linecolor": "white",
                          "minorgridcolor": "white",
                          "startlinecolor": "#2a3f5f"
                        },
                        "type": "carpet"
                      }
                    ],
                    "table": [
                      {
                        "cells": {
                          "fill": {
                            "color": "#EBF0F8"
                          },
                          "line": {
                            "color": "white"
                          }
                        },
                        "header": {
                          "fill": {
                            "color": "#C8D4E3"
                          },
                          "line": {
                            "color": "white"
                          }
                        },
                        "type": "table"
                      }
                    ],
                    "barpolar": [
                      {
                        "marker": {
                          "line": {
                            "color": "#E5ECF6",
                            "width": 0.5
                          },
                          "pattern": {
                            "fillmode": "overlay",
                            "size": 10,
                            "solidity": 0.2
                          }
                        },
                        "type": "barpolar"
                      }
                    ],
                    "pie": [
                      {
                        "automargin": true,
                        "type": "pie"
                      }
                    ]
                  },
                  "layout": {
                    "autotypenumbers": "strict",
                    "colorway": [
                      "#636efa",
                      "#EF553B",
                      "#00cc96",
                      "#ab63fa",
                      "#FFA15A",
                      "#19d3f3",
                      "#FF6692",
                      "#B6E880",
                      "#FF97FF",
                      "#FECB52"
                    ],
                    "font": {
                      "color": "#2a3f5f"
                    },
                    "hovermode": "closest",
                    "hoverlabel": {
                      "align": "left"
                    },
                    "paper_bgcolor": "white",
                    "plot_bgcolor": "#E5ECF6",
                    "polar": {
                      "bgcolor": "#E5ECF6",
                      "angularaxis": {
                        "gridcolor": "white",
                        "linecolor": "white",
                        "ticks": ""
                      },
                      "radialaxis": {
                        "gridcolor": "white",
                        "linecolor": "white",
                        "ticks": ""
                      }
                    },
                    "ternary": {
                      "bgcolor": "#E5ECF6",
                      "aaxis": {
                        "gridcolor": "white",
                        "linecolor": "white",
                        "ticks": ""
                      },
                      "baxis": {
                        "gridcolor": "white",
                        "linecolor": "white",
                        "ticks": ""
                      },
                      "caxis": {
                        "gridcolor": "white",
                        "linecolor": "white",
                        "ticks": ""
                      }
                    },
                    "coloraxis": {
                      "colorbar": {
                        "outlinewidth": 0,
                        "ticks": ""
                      }
                    },
                    "colorscale": {
                      "sequential": [
                        [
                          0,
                          "#0d0887"
                        ],
                        [
                          0.1111111111111111,
                          "#46039f"
                        ],
                        [
                          0.2222222222222222,
                          "#7201a8"
                        ],
                        [
                          0.3333333333333333,
                          "#9c179e"
                        ],
                        [
                          0.4444444444444444,
                          "#bd3786"
                        ],
                        [
                          0.5555555555555556,
                          "#d8576b"
                        ],
                        [
                          0.6666666666666666,
                          "#ed7953"
                        ],
                        [
                          0.7777777777777778,
                          "#fb9f3a"
                        ],
                        [
                          0.8888888888888888,
                          "#fdca26"
                        ],
                        [
                          1,
                          "#f0f921"
                        ]
                      ],
                      "sequentialminus": [
                        [
                          0,
                          "#0d0887"
                        ],
                        [
                          0.1111111111111111,
                          "#46039f"
                        ],
                        [
                          0.2222222222222222,
                          "#7201a8"
                        ],
                        [
                          0.3333333333333333,
                          "#9c179e"
                        ],
                        [
                          0.4444444444444444,
                          "#bd3786"
                        ],
                        [
                          0.5555555555555556,
                          "#d8576b"
                        ],
                        [
                          0.6666666666666666,
                          "#ed7953"
                        ],
                        [
                          0.7777777777777778,
                          "#fb9f3a"
                        ],
                        [
                          0.8888888888888888,
                          "#fdca26"
                        ],
                        [
                          1,
                          "#f0f921"
                        ]
                      ],
                      "diverging": [
                        [
                          0,
                          "#8e0152"
                        ],
                        [
                          0.1,
                          "#c51b7d"
                        ],
                        [
                          0.2,
                          "#de77ae"
                        ],
                        [
                          0.3,
                          "#f1b6da"
                        ],
                        [
                          0.4,
                          "#fde0ef"
                        ],
                        [
                          0.5,
                          "#f7f7f7"
                        ],
                        [
                          0.6,
                          "#e6f5d0"
                        ],
                        [
                          0.7,
                          "#b8e186"
                        ],
                        [
                          0.8,
                          "#7fbc41"
                        ],
                        [
                          0.9,
                          "#4d9221"
                        ],
                        [
                          1,
                          "#276419"
                        ]
                      ]
                    },
                    "xaxis": {
                      "gridcolor": "white",
                      "linecolor": "white",
                      "ticks": "",
                      "title": {
                        "standoff": 15
                      },
                      "zerolinecolor": "white",
                      "automargin": true,
                      "zerolinewidth": 2
                    },
                    "yaxis": {
                      "gridcolor": "white",
                      "linecolor": "white",
                      "ticks": "",
                      "title": {
                        "standoff": 15
                      },
                      "zerolinecolor": "white",
                      "automargin": true,
                      "zerolinewidth": 2
                    },
                    "scene": {
                      "xaxis": {
                        "backgroundcolor": "#E5ECF6",
                        "gridcolor": "white",
                        "linecolor": "white",
                        "showbackground": true,
                        "ticks": "",
                        "zerolinecolor": "white",
                        "gridwidth": 2
                      },
                      "yaxis": {
                        "backgroundcolor": "#E5ECF6",
                        "gridcolor": "white",
                        "linecolor": "white",
                        "showbackground": true,
                        "ticks": "",
                        "zerolinecolor": "white",
                        "gridwidth": 2
                      },
                      "zaxis": {
                        "backgroundcolor": "#E5ECF6",
                        "gridcolor": "white",
                        "linecolor": "white",
                        "showbackground": true,
                        "ticks": "",
                        "zerolinecolor": "white",
                        "gridwidth": 2
                      }
                    },
                    "shapedefaults": {
                      "line": {
                        "color": "#2a3f5f"
                      }
                    },
                    "annotationdefaults": {
                      "arrowcolor": "#2a3f5f",
                      "arrowhead": 0,
                      "arrowwidth": 1
                    },
                    "geo": {
                      "bgcolor": "white",
                      "landcolor": "#E5ECF6",
                      "subunitcolor": "white",
                      "showland": true,
                      "showlakes": true,
                      "lakecolor": "white"
                    },
                    "title": {
                      "x": 0.05
                    },
                    "mapbox": {
                      "style": "light"
                    }
                  }
                },
                "xaxis": {
                  "title": {
                    "text": "Number of orbitals"
                  },
                  "tickmode": "array",
                  "tickvals": [
                    41,
                    81,
                    161,
                    321,
                    481,
                    641,
                    801,
                    961,
                    1121
                  ],
                  "type": "linear",
                  "range": [
                    -25.40478223740395,
                    1187.4047822374039
                  ],
                  "autorange": true
                },
                "yaxis": {
                  "title": {
                    "text": "Time per orbital (s)"
                  },
                  "type": "log",
                  "showexponent": "all",
                  "exponentformat": "power",
                  "dtick": 1,
                  "range": [
                    -1.9854559788237003,
                    -0.010423588699632141
                  ],
                  "autorange": true
                },
                "hovermode": "x unified",
                "title": {
                  "text": "Average SCF cycle wall time, scaled by the number of orbitals"
                },
                "height": 600,
                "width": 1000
              },
              "config": {
                "plotlyServerURL": "https://plot.ly"
              }
            },
            "text/html": "<div>                            <div id=\"08bf12e6-3571-4087-8e2b-13e729e7b6ca\" class=\"plotly-graph-div\" style=\"height:600px; width:1000px;\"></div>            <script type=\"text/javascript\">                require([\"plotly\"], function(Plotly) {                    window.PLOTLYENV=window.PLOTLYENV || {};                                    if (document.getElementById(\"08bf12e6-3571-4087-8e2b-13e729e7b6ca\")) {                    Plotly.newPlot(                        \"08bf12e6-3571-4087-8e2b-13e729e7b6ca\",                        [{\"error_y\":{\"array\":[0.061198948607642016,0.07768874569159331,0.08174172090602767,0.0918817194677466,0.1029325489763634,0.09323445815129232,0.10701775494419305,0.12450366284671115,0.15035520066632244],\"type\":\"data\",\"visible\":true},\"marker\":{\"symbol\":0},\"mode\":\"lines+markers\",\"name\":\"Total\",\"x\":[41,81,161,321,481,641,801,961,1121],\"y\":[0.31422814258911824,0.3839646090534979,0.37743595583160805,0.43343682935271716,0.49296789096789095,0.49152054082163293,0.5125633236232487,0.596916753381894,0.6273675289919716],\"type\":\"scatter\"},{\"error_y\":{\"array\":[0.006454142849987962,0.003907996740137722,0.007192749077736248,0.011770406907833637,0.014570823673958627,0.017198228683569183,0.013791473688275782,0.01756692131377419,0.00795281877967312],\"type\":\"data\",\"visible\":true},\"marker\":{\"symbol\":1},\"mode\":\"lines+markers\",\"name\":\"Exchange\",\"x\":[41,81,161,321,481,641,801,961,1121],\"y\":[0.1272232645403377,0.18031550068587107,0.2095514147688061,0.2581516095534787,0.30561330561330563,0.3159126365054602,0.3311693716188098,0.40277488727020466,0.4138906588505161],\"type\":\"scatter\"},{\"error_y\":{\"array\":[0.000326044037466844,0.0001539776702376109,0.00017810197240253835,0.0009931398642544229,0.0011360562238930767,0.0014229168641043876,0.0007861314386823464,0.0007822155708819947,0.00020358073707369285],\"type\":\"data\",\"visible\":true},\"marker\":{\"symbol\":2},\"mode\":\"lines+markers\",\"name\":\"Kinetic\",\"x\":[41,81,161,321,481,641,801,961,1121],\"y\":[0.01671669793621013,0.01806584362139918,0.016231884057971015,0.01648321218414676,0.016437976437976436,0.015882735309412376,0.014165626300457762,0.014640998959417274,0.013518542118006882],\"type\":\"scatter\"},{\"error_y\":{\"array\":[0.017588735455497995,0.014052398296426858,0.011824494102651666,0.012446074795118915,0.010743131098335166,0.009376034164862924,0.010534544914273145,0.009976762917885323,0.011460363355915191],\"type\":\"data\",\"visible\":true},\"marker\":{\"symbol\":3},\"mode\":\"lines+markers\",\"name\":\"Coulomb\",\"x\":[41,81,161,321,481,641,801,961,1121],\"y\":[0.05622889305816135,0.04979423868312757,0.04265700483091788,0.03984077535479404,0.03908292908292908,0.037103484139365574,0.03812872797891524,0.03606659729448491,0.03771250159296546],\"type\":\"scatter\"},{\"error_y\":{\"array\":[0.0035820225437476,0.0008468547155074048,0.000771194685847302,0.0005497831370662834,0.0007724940230612656,0.0004132857071808479,7.985575819853163e-05,0.00017525440998224294,0.00011504479716092263],\"type\":\"data\",\"visible\":true},\"marker\":{\"symbol\":4},\"mode\":\"lines+markers\",\"name\":\"Helmholtz\",\"x\":[41,81,161,321,481,641,801,961,1121],\"y\":[0.036410716697936205,0.06063801646090535,0.03503931055900621,0.04121594323295258,0.04407290136290136,0.045316536661466456,0.040980002774309895,0.04514314718464563,0.044080221740792666],\"type\":\"scatter\"}],                        {\"template\":{\"data\":{\"histogram2dcontour\":[{\"type\":\"histogram2dcontour\",\"colorbar\":{\"outlinewidth\":0,\"ticks\":\"\"},\"colorscale\":[[0.0,\"#0d0887\"],[0.1111111111111111,\"#46039f\"],[0.2222222222222222,\"#7201a8\"],[0.3333333333333333,\"#9c179e\"],[0.4444444444444444,\"#bd3786\"],[0.5555555555555556,\"#d8576b\"],[0.6666666666666666,\"#ed7953\"],[0.7777777777777778,\"#fb9f3a\"],[0.8888888888888888,\"#fdca26\"],[1.0,\"#f0f921\"]]}],\"choropleth\":[{\"type\":\"choropleth\",\"colorbar\":{\"outlinewidth\":0,\"ticks\":\"\"}}],\"histogram2d\":[{\"type\":\"histogram2d\",\"colorbar\":{\"outlinewidth\":0,\"ticks\":\"\"},\"colorscale\":[[0.0,\"#0d0887\"],[0.1111111111111111,\"#46039f\"],[0.2222222222222222,\"#7201a8\"],[0.3333333333333333,\"#9c179e\"],[0.4444444444444444,\"#bd3786\"],[0.5555555555555556,\"#d8576b\"],[0.6666666666666666,\"#ed7953\"],[0.7777777777777778,\"#fb9f3a\"],[0.8888888888888888,\"#fdca26\"],[1.0,\"#f0f921\"]]}],\"heatmap\":[{\"type\":\"heatmap\",\"colorbar\":{\"outlinewidth\":0,\"ticks\":\"\"},\"colorscale\":[[0.0,\"#0d0887\"],[0.1111111111111111,\"#46039f\"],[0.2222222222222222,\"#7201a8\"],[0.3333333333333333,\"#9c179e\"],[0.4444444444444444,\"#bd3786\"],[0.5555555555555556,\"#d8576b\"],[0.6666666666666666,\"#ed7953\"],[0.7777777777777778,\"#fb9f3a\"],[0.8888888888888888,\"#fdca26\"],[1.0,\"#f0f921\"]]}],\"heatmapgl\":[{\"type\":\"heatmapgl\",\"colorbar\":{\"outlinewidth\":0,\"ticks\":\"\"},\"colorscale\":[[0.0,\"#0d0887\"],[0.1111111111111111,\"#46039f\"],[0.2222222222222222,\"#7201a8\"],[0.3333333333333333,\"#9c179e\"],[0.4444444444444444,\"#bd3786\"],[0.5555555555555556,\"#d8576b\"],[0.6666666666666666,\"#ed7953\"],[0.7777777777777778,\"#fb9f3a\"],[0.8888888888888888,\"#fdca26\"],[1.0,\"#f0f921\"]]}],\"contourcarpet\":[{\"type\":\"contourcarpet\",\"colorbar\":{\"outlinewidth\":0,\"ticks\":\"\"}}],\"contour\":[{\"type\":\"contour\",\"colorbar\":{\"outlinewidth\":0,\"ticks\":\"\"},\"colorscale\":[[0.0,\"#0d0887\"],[0.1111111111111111,\"#46039f\"],[0.2222222222222222,\"#7201a8\"],[0.3333333333333333,\"#9c179e\"],[0.4444444444444444,\"#bd3786\"],[0.5555555555555556,\"#d8576b\"],[0.6666666666666666,\"#ed7953\"],[0.7777777777777778,\"#fb9f3a\"],[0.8888888888888888,\"#fdca26\"],[1.0,\"#f0f921\"]]}],\"surface\":[{\"type\":\"surface\",\"colorbar\":{\"outlinewidth\":0,\"ticks\":\"\"},\"colorscale\":[[0.0,\"#0d0887\"],[0.1111111111111111,\"#46039f\"],[0.2222222222222222,\"#7201a8\"],[0.3333333333333333,\"#9c179e\"],[0.4444444444444444,\"#bd3786\"],[0.5555555555555556,\"#d8576b\"],[0.6666666666666666,\"#ed7953\"],[0.7777777777777778,\"#fb9f3a\"],[0.8888888888888888,\"#fdca26\"],[1.0,\"#f0f921\"]]}],\"mesh3d\":[{\"type\":\"mesh3d\",\"colorbar\":{\"outlinewidth\":0,\"ticks\":\"\"}}],\"scatter\":[{\"fillpattern\":{\"fillmode\":\"overlay\",\"size\":10,\"solidity\":0.2},\"type\":\"scatter\"}],\"parcoords\":[{\"type\":\"parcoords\",\"line\":{\"colorbar\":{\"outlinewidth\":0,\"ticks\":\"\"}}}],\"scatterpolargl\":[{\"type\":\"scatterpolargl\",\"marker\":{\"colorbar\":{\"outlinewidth\":0,\"ticks\":\"\"}}}],\"bar\":[{\"error_x\":{\"color\":\"#2a3f5f\"},\"error_y\":{\"color\":\"#2a3f5f\"},\"marker\":{\"line\":{\"color\":\"#E5ECF6\",\"width\":0.5},\"pattern\":{\"fillmode\":\"overlay\",\"size\":10,\"solidity\":0.2}},\"type\":\"bar\"}],\"scattergeo\":[{\"type\":\"scattergeo\",\"marker\":{\"colorbar\":{\"outlinewidth\":0,\"ticks\":\"\"}}}],\"scatterpolar\":[{\"type\":\"scatterpolar\",\"marker\":{\"colorbar\":{\"outlinewidth\":0,\"ticks\":\"\"}}}],\"histogram\":[{\"marker\":{\"pattern\":{\"fillmode\":\"overlay\",\"size\":10,\"solidity\":0.2}},\"type\":\"histogram\"}],\"scattergl\":[{\"type\":\"scattergl\",\"marker\":{\"colorbar\":{\"outlinewidth\":0,\"ticks\":\"\"}}}],\"scatter3d\":[{\"type\":\"scatter3d\",\"line\":{\"colorbar\":{\"outlinewidth\":0,\"ticks\":\"\"}},\"marker\":{\"colorbar\":{\"outlinewidth\":0,\"ticks\":\"\"}}}],\"scattermapbox\":[{\"type\":\"scattermapbox\",\"marker\":{\"colorbar\":{\"outlinewidth\":0,\"ticks\":\"\"}}}],\"scatterternary\":[{\"type\":\"scatterternary\",\"marker\":{\"colorbar\":{\"outlinewidth\":0,\"ticks\":\"\"}}}],\"scattercarpet\":[{\"type\":\"scattercarpet\",\"marker\":{\"colorbar\":{\"outlinewidth\":0,\"ticks\":\"\"}}}],\"carpet\":[{\"aaxis\":{\"endlinecolor\":\"#2a3f5f\",\"gridcolor\":\"white\",\"linecolor\":\"white\",\"minorgridcolor\":\"white\",\"startlinecolor\":\"#2a3f5f\"},\"baxis\":{\"endlinecolor\":\"#2a3f5f\",\"gridcolor\":\"white\",\"linecolor\":\"white\",\"minorgridcolor\":\"white\",\"startlinecolor\":\"#2a3f5f\"},\"type\":\"carpet\"}],\"table\":[{\"cells\":{\"fill\":{\"color\":\"#EBF0F8\"},\"line\":{\"color\":\"white\"}},\"header\":{\"fill\":{\"color\":\"#C8D4E3\"},\"line\":{\"color\":\"white\"}},\"type\":\"table\"}],\"barpolar\":[{\"marker\":{\"line\":{\"color\":\"#E5ECF6\",\"width\":0.5},\"pattern\":{\"fillmode\":\"overlay\",\"size\":10,\"solidity\":0.2}},\"type\":\"barpolar\"}],\"pie\":[{\"automargin\":true,\"type\":\"pie\"}]},\"layout\":{\"autotypenumbers\":\"strict\",\"colorway\":[\"#636efa\",\"#EF553B\",\"#00cc96\",\"#ab63fa\",\"#FFA15A\",\"#19d3f3\",\"#FF6692\",\"#B6E880\",\"#FF97FF\",\"#FECB52\"],\"font\":{\"color\":\"#2a3f5f\"},\"hovermode\":\"closest\",\"hoverlabel\":{\"align\":\"left\"},\"paper_bgcolor\":\"white\",\"plot_bgcolor\":\"#E5ECF6\",\"polar\":{\"bgcolor\":\"#E5ECF6\",\"angularaxis\":{\"gridcolor\":\"white\",\"linecolor\":\"white\",\"ticks\":\"\"},\"radialaxis\":{\"gridcolor\":\"white\",\"linecolor\":\"white\",\"ticks\":\"\"}},\"ternary\":{\"bgcolor\":\"#E5ECF6\",\"aaxis\":{\"gridcolor\":\"white\",\"linecolor\":\"white\",\"ticks\":\"\"},\"baxis\":{\"gridcolor\":\"white\",\"linecolor\":\"white\",\"ticks\":\"\"},\"caxis\":{\"gridcolor\":\"white\",\"linecolor\":\"white\",\"ticks\":\"\"}},\"coloraxis\":{\"colorbar\":{\"outlinewidth\":0,\"ticks\":\"\"}},\"colorscale\":{\"sequential\":[[0.0,\"#0d0887\"],[0.1111111111111111,\"#46039f\"],[0.2222222222222222,\"#7201a8\"],[0.3333333333333333,\"#9c179e\"],[0.4444444444444444,\"#bd3786\"],[0.5555555555555556,\"#d8576b\"],[0.6666666666666666,\"#ed7953\"],[0.7777777777777778,\"#fb9f3a\"],[0.8888888888888888,\"#fdca26\"],[1.0,\"#f0f921\"]],\"sequentialminus\":[[0.0,\"#0d0887\"],[0.1111111111111111,\"#46039f\"],[0.2222222222222222,\"#7201a8\"],[0.3333333333333333,\"#9c179e\"],[0.4444444444444444,\"#bd3786\"],[0.5555555555555556,\"#d8576b\"],[0.6666666666666666,\"#ed7953\"],[0.7777777777777778,\"#fb9f3a\"],[0.8888888888888888,\"#fdca26\"],[1.0,\"#f0f921\"]],\"diverging\":[[0,\"#8e0152\"],[0.1,\"#c51b7d\"],[0.2,\"#de77ae\"],[0.3,\"#f1b6da\"],[0.4,\"#fde0ef\"],[0.5,\"#f7f7f7\"],[0.6,\"#e6f5d0\"],[0.7,\"#b8e186\"],[0.8,\"#7fbc41\"],[0.9,\"#4d9221\"],[1,\"#276419\"]]},\"xaxis\":{\"gridcolor\":\"white\",\"linecolor\":\"white\",\"ticks\":\"\",\"title\":{\"standoff\":15},\"zerolinecolor\":\"white\",\"automargin\":true,\"zerolinewidth\":2},\"yaxis\":{\"gridcolor\":\"white\",\"linecolor\":\"white\",\"ticks\":\"\",\"title\":{\"standoff\":15},\"zerolinecolor\":\"white\",\"automargin\":true,\"zerolinewidth\":2},\"scene\":{\"xaxis\":{\"backgroundcolor\":\"#E5ECF6\",\"gridcolor\":\"white\",\"linecolor\":\"white\",\"showbackground\":true,\"ticks\":\"\",\"zerolinecolor\":\"white\",\"gridwidth\":2},\"yaxis\":{\"backgroundcolor\":\"#E5ECF6\",\"gridcolor\":\"white\",\"linecolor\":\"white\",\"showbackground\":true,\"ticks\":\"\",\"zerolinecolor\":\"white\",\"gridwidth\":2},\"zaxis\":{\"backgroundcolor\":\"#E5ECF6\",\"gridcolor\":\"white\",\"linecolor\":\"white\",\"showbackground\":true,\"ticks\":\"\",\"zerolinecolor\":\"white\",\"gridwidth\":2}},\"shapedefaults\":{\"line\":{\"color\":\"#2a3f5f\"}},\"annotationdefaults\":{\"arrowcolor\":\"#2a3f5f\",\"arrowhead\":0,\"arrowwidth\":1},\"geo\":{\"bgcolor\":\"white\",\"landcolor\":\"#E5ECF6\",\"subunitcolor\":\"white\",\"showland\":true,\"showlakes\":true,\"lakecolor\":\"white\"},\"title\":{\"x\":0.05},\"mapbox\":{\"style\":\"light\"}}},\"xaxis\":{\"title\":{\"text\":\"Number of orbitals\"},\"tickmode\":\"array\",\"tickvals\":[41,81,161,321,481,641,801,961,1121]},\"yaxis\":{\"title\":{\"text\":\"Time per orbital (s)\"},\"type\":\"log\",\"showexponent\":\"all\",\"exponentformat\":\"power\",\"dtick\":1},\"hovermode\":\"x unified\",\"title\":{\"text\":\"Average SCF cycle wall time, scaled by the number of orbitals\"},\"height\":600,\"width\":1000},                        {\"responsive\": true}                    ).then(function(){\n                            \nvar gd = document.getElementById('08bf12e6-3571-4087-8e2b-13e729e7b6ca');\nvar x = new MutationObserver(function (mutations, observer) {{\n        var display = window.getComputedStyle(gd).display;\n        if (!display || display === 'none') {{\n            console.log([gd, 'removed!']);\n            Plotly.purge(gd);\n            observer.disconnect();\n        }}\n}});\n\n// Listen for the removal of the full notebook cells\nvar notebookContainer = gd.closest('#notebook-container');\nif (notebookContainer) {{\n    x.observe(notebookContainer, {childList: true});\n}}\n\n// Listen for the clearing of the current output cell\nvar outputEl = gd.closest('.output');\nif (outputEl) {{\n    x.observe(outputEl, {childList: true});\n}}\n\n                        })                };                });            </script>        </div>",
            "text/plain": "Figure({\n    'data': [{'error_y': {'array': [0.061198948607642016, 0.07768874569159331,\n                                    0.08174172090602767, 0.0918817194677466,\n                                    0.1029325489763634, 0.09323445815129232,\n                                    0.10701775494419305, 0.12450366284671115,\n                                    0.15035520066632244],\n                          'type': 'data',\n                          'visible': True},\n              'marker': {'symbol': 0},\n              'mode': 'lines+markers',\n              'name': 'Total',\n              'type': 'scatter',\n              'x': [41, 81, 161, 321, 481, 641, 801, 961, 1121],\n              'y': [0.31422814258911824, 0.3839646090534979, 0.37743595583160805,\n                    0.43343682935271716, 0.49296789096789095, 0.49152054082163293,\n                    0.5125633236232487, 0.596916753381894, 0.6273675289919716]},\n             {'error_y': {'array': [0.006454142849987962, 0.003907996740137722,\n                                    0.007192749077736248, 0.011770406907833637,\n                                    0.014570823673958627, 0.017198228683569183,\n                                    0.013791473688275782, 0.01756692131377419,\n                                    0.00795281877967312],\n                          'type': 'data',\n                          'visible': True},\n              'marker': {'symbol': 1},\n              'mode': 'lines+markers',\n              'name': 'Exchange',\n              'type': 'scatter',\n              'x': [41, 81, 161, 321, 481, 641, 801, 961, 1121],\n              'y': [0.1272232645403377, 0.18031550068587107, 0.2095514147688061,\n                    0.2581516095534787, 0.30561330561330563, 0.3159126365054602,\n                    0.3311693716188098, 0.40277488727020466, 0.4138906588505161]},\n             {'error_y': {'array': [0.000326044037466844, 0.0001539776702376109,\n                                    0.00017810197240253835, 0.0009931398642544229,\n                                    0.0011360562238930767, 0.0014229168641043876,\n                                    0.0007861314386823464, 0.0007822155708819947,\n                                    0.00020358073707369285],\n                          'type': 'data',\n                          'visible': True},\n              'marker': {'symbol': 2},\n              'mode': 'lines+markers',\n              'name': 'Kinetic',\n              'type': 'scatter',\n              'x': [41, 81, 161, 321, 481, 641, 801, 961, 1121],\n              'y': [0.01671669793621013, 0.01806584362139918,\n                    0.016231884057971015, 0.01648321218414676,\n                    0.016437976437976436, 0.015882735309412376,\n                    0.014165626300457762, 0.014640998959417274,\n                    0.013518542118006882]},\n             {'error_y': {'array': [0.017588735455497995, 0.014052398296426858,\n                                    0.011824494102651666, 0.012446074795118915,\n                                    0.010743131098335166, 0.009376034164862924,\n                                    0.010534544914273145, 0.009976762917885323,\n                                    0.011460363355915191],\n                          'type': 'data',\n                          'visible': True},\n              'marker': {'symbol': 3},\n              'mode': 'lines+markers',\n              'name': 'Coulomb',\n              'type': 'scatter',\n              'x': [41, 81, 161, 321, 481, 641, 801, 961, 1121],\n              'y': [0.05622889305816135, 0.04979423868312757, 0.04265700483091788,\n                    0.03984077535479404, 0.03908292908292908, 0.037103484139365574,\n                    0.03812872797891524, 0.03606659729448491, 0.03771250159296546]},\n             {'error_y': {'array': [0.0035820225437476, 0.0008468547155074048,\n                                    0.000771194685847302, 0.0005497831370662834,\n                                    0.0007724940230612656, 0.0004132857071808479,\n                                    7.985575819853163e-05, 0.00017525440998224294,\n                                    0.00011504479716092263],\n                          'type': 'data',\n                          'visible': True},\n              'marker': {'symbol': 4},\n              'mode': 'lines+markers',\n              'name': 'Helmholtz',\n              'type': 'scatter',\n              'x': [41, 81, 161, 321, 481, 641, 801, 961, 1121],\n              'y': [0.036410716697936205, 0.06063801646090535,\n                    0.03503931055900621, 0.04121594323295258, 0.04407290136290136,\n                    0.045316536661466456, 0.040980002774309895,\n                    0.04514314718464563, 0.044080221740792666]}],\n    'layout': {'height': 600,\n               'hovermode': 'x unified',\n               'template': '...',\n               'title': {'text': 'Average SCF cycle wall time, scaled by the number of orbitals'},\n               'width': 1000,\n               'xaxis': {'tickmode': 'array',\n                         'tickvals': [41, 81, 161, 321, 481, 641, 801, 961, 1121],\n                         'title': {'text': 'Number of orbitals'}},\n               'yaxis': {'dtick': 1,\n                         'exponentformat': 'power',\n                         'showexponent': 'all',\n                         'title': {'text': 'Time per orbital (s)'},\n                         'type': 'log'}}\n})",
            "image/png": "[encoded data removed]"
          },
          "metadata": {}
        },
        {
          "ename": "<class 'ValueError'>",
          "evalue": "Mime type rendering requires nbformat>=4.2.0 but it is not installed",
          "traceback": [
            "\u001b[0;31m---------------------------------------------------------------------------\u001b[0m",
            "\u001b[0;31mValueError\u001b[0m                                Traceback (most recent call last)",
            "File \u001b[0;32m/lib/python3.10/site-packages/IPython/core/formatters.py:921\u001b[0m, in \u001b[0;36mIPythonDisplayFormatter.__call__\u001b[0;34m(self, obj)\u001b[0m\n\u001b[1;32m    919\u001b[0m method \u001b[38;5;241m=\u001b[39m get_real_method(obj, \u001b[38;5;28mself\u001b[39m\u001b[38;5;241m.\u001b[39mprint_method)\n\u001b[1;32m    920\u001b[0m \u001b[38;5;28;01mif\u001b[39;00m method \u001b[38;5;129;01mis\u001b[39;00m \u001b[38;5;129;01mnot\u001b[39;00m \u001b[38;5;28;01mNone\u001b[39;00m:\n\u001b[0;32m--> 921\u001b[0m     \u001b[43mmethod\u001b[49m\u001b[43m(\u001b[49m\u001b[43m)\u001b[49m\n\u001b[1;32m    922\u001b[0m     \u001b[38;5;28;01mreturn\u001b[39;00m \u001b[38;5;28;01mTrue\u001b[39;00m\n",
            "File \u001b[0;32m/lib/python3.10/site-packages/plotly/basedatatypes.py:842\u001b[0m, in \u001b[0;36mBaseFigure._ipython_display_\u001b[0;34m(self)\u001b[0m\n\u001b[1;32m    839\u001b[0m \u001b[38;5;28;01mimport\u001b[39;00m \u001b[38;5;21;01mplotly\u001b[39;00m\u001b[38;5;21;01m.\u001b[39;00m\u001b[38;5;21;01mio\u001b[39;00m \u001b[38;5;28;01mas\u001b[39;00m \u001b[38;5;21;01mpio\u001b[39;00m\n\u001b[1;32m    841\u001b[0m \u001b[38;5;28;01mif\u001b[39;00m pio\u001b[38;5;241m.\u001b[39mrenderers\u001b[38;5;241m.\u001b[39mrender_on_display \u001b[38;5;129;01mand\u001b[39;00m pio\u001b[38;5;241m.\u001b[39mrenderers\u001b[38;5;241m.\u001b[39mdefault:\n\u001b[0;32m--> 842\u001b[0m     \u001b[43mpio\u001b[49m\u001b[38;5;241;43m.\u001b[39;49m\u001b[43mshow\u001b[49m\u001b[43m(\u001b[49m\u001b[38;5;28;43mself\u001b[39;49m\u001b[43m)\u001b[49m\n\u001b[1;32m    843\u001b[0m \u001b[38;5;28;01melse\u001b[39;00m:\n\u001b[1;32m    844\u001b[0m     \u001b[38;5;28mprint\u001b[39m(\u001b[38;5;28mrepr\u001b[39m(\u001b[38;5;28mself\u001b[39m))\n",
            "File \u001b[0;32m/lib/python3.10/site-packages/plotly/io/_renderers.py:396\u001b[0m, in \u001b[0;36mshow\u001b[0;34m(fig, renderer, validate, **kwargs)\u001b[0m\n\u001b[1;32m    391\u001b[0m         \u001b[38;5;28;01mraise\u001b[39;00m \u001b[38;5;167;01mValueError\u001b[39;00m(\n\u001b[1;32m    392\u001b[0m             \u001b[38;5;124m\"\u001b[39m\u001b[38;5;124mMime type rendering requires ipython but it is not installed\u001b[39m\u001b[38;5;124m\"\u001b[39m\n\u001b[1;32m    393\u001b[0m         )\n\u001b[1;32m    395\u001b[0m     \u001b[38;5;28;01mif\u001b[39;00m \u001b[38;5;129;01mnot\u001b[39;00m nbformat \u001b[38;5;129;01mor\u001b[39;00m LooseVersion(nbformat\u001b[38;5;241m.\u001b[39m__version__) \u001b[38;5;241m<\u001b[39m LooseVersion(\u001b[38;5;124m\"\u001b[39m\u001b[38;5;124m4.2.0\u001b[39m\u001b[38;5;124m\"\u001b[39m):\n\u001b[0;32m--> 396\u001b[0m         \u001b[38;5;28;01mraise\u001b[39;00m \u001b[38;5;167;01mValueError\u001b[39;00m(\n\u001b[1;32m    397\u001b[0m             \u001b[38;5;124m\"\u001b[39m\u001b[38;5;124mMime type rendering requires nbformat>=4.2.0 but it is not installed\u001b[39m\u001b[38;5;124m\"\u001b[39m\n\u001b[1;32m    398\u001b[0m         )\n\u001b[1;32m    400\u001b[0m     ipython_display\u001b[38;5;241m.\u001b[39mdisplay(bundle, raw\u001b[38;5;241m=\u001b[39m\u001b[38;5;28;01mTrue\u001b[39;00m)\n\u001b[1;32m    402\u001b[0m \u001b[38;5;66;03m# external renderers\u001b[39;00m\n",
            "\u001b[0;31mValueError\u001b[0m: Mime type rendering requires nbformat>=4.2.0 but it is not installed"
          ],
          "output_type": "error"
        }
      ],
      "id": "7b377b40-d472-4b10-89e2-2f703d77b212"
    }
  ]
}